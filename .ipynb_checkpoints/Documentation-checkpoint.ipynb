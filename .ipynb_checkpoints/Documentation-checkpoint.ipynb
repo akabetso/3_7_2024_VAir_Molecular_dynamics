{
 "cells": [
  {
   "cell_type": "markdown",
   "id": "cf286a85-b14b-4cb1-9645-783edbbcbb2e",
   "metadata": {},
   "source": [
    "# Crystal structure of the SARS-CoV-1 RBD bound by the cross-reactive single-domain antibody SARS VHH-72\n",
    "\n",
    "## https://www.rcsb.org/structure/6WAQ"
   ]
  },
  {
   "cell_type": "code",
   "execution_count": 1,
   "id": "c9456be8-90f2-4b94-82ac-c050a7e01bbc",
   "metadata": {},
   "outputs": [
    {
     "data": {
      "application/vnd.jupyter.widget-view+json": {
       "model_id": "14ac1da891184874bd028d099448818b",
       "version_major": 2,
       "version_minor": 0
      },
      "text/plain": []
     },
     "metadata": {},
     "output_type": "display_data"
    }
   ],
   "source": [
    "import nglview as nv\n",
    "from Bio import PDB\n",
    "from Bio.SeqUtils import molecular_weight\n",
    "from Bio.SeqUtils import seq1"
   ]
  },
  {
   "cell_type": "code",
   "execution_count": 438,
   "id": "12c3c0e9-5b1c-4913-81b1-5b29d93ae561",
   "metadata": {},
   "outputs": [
    {
     "data": {
      "application/vnd.jupyter.widget-view+json": {
       "model_id": "01706692f20e444bb44dca011713925c",
       "version_major": 2,
       "version_minor": 0
      },
      "text/plain": [
       "NGLWidget()"
      ]
     },
     "metadata": {},
     "output_type": "display_data"
    }
   ],
   "source": [
    "view = nv.show_file(\"6waq.pdb\")\n",
    "view"
   ]
  },
  {
   "cell_type": "markdown",
   "id": "f7800902-f384-4508-9fa8-99f282398ee1",
   "metadata": {},
   "source": [
    "## The pdb file is made up of two christalized copies of vhh72 bound to to Sars-Cov-2 spike protein (chain A bound to chain B and chain C bound to chain D, chain C and D not shown on figure). since our protein of interest is the vhh72 nanobody, we need to extract only this (chain A)"
   ]
  },
  {
   "cell_type": "code",
   "execution_count": 194,
   "id": "934480a2-8f25-4798-9e35-b19769c9735f",
   "metadata": {},
   "outputs": [
    {
     "name": "stdout",
     "output_type": "stream",
     "text": [
      "Chain ID: A\n",
      "Number of atoms: 970\n",
      "Molecular mass: 16042.88 Da\n",
      "Net charge: 1\n",
      "Amino acid sequence: QVQLQESGGGLVQAGGSLRLSCAASGRTFSEYAMGWFRQAPGKEREFVATISWSGGSTYYTDSVKGRFTISRDNAKNTVYLQMNSLKPDDTAVYYCAAAGLGTVVSEWDYDYDYWGQGTQVTVSSGS\n",
      "Sequence : 127\n"
     ]
    }
   ],
   "source": [
    "# Class for selecting a specific chain and removing water molecules\n",
    "class ChainAWithoutWaterSelect(PDB.Select):\n",
    "    def __init__(self, chain_id):\n",
    "        self.chain_id = chain_id\n",
    "\n",
    "    def accept_chain(self, chain):\n",
    "        return chain.id == self.chain_id\n",
    "\n",
    "    def accept_residue(self, residue):\n",
    "        return residue.id[0] == \" \"  # Accept only standard residues, not waters or heteroatoms\n",
    "\n",
    "# Load the PDB file\n",
    "parser = PDB.PDBParser(QUIET=True)\n",
    "structure = parser.get_structure(\"structure\", \"6waq.pdb\")\n",
    "linker = parser.get_structure(\"linker\", \"linker.pdb\")\n",
    "\n",
    "# Extract chain A and remove water molecules\n",
    "chain_id = 'A'\n",
    "io = PDB.PDBIO()\n",
    "io.set_structure(structure)\n",
    "io.save(\"vhh72.pdb\", ChainAWithoutWaterSelect(chain_id))\n",
    "\n",
    "# Function to calculate properties\n",
    "def calculate_properties(chain):\n",
    "    mass = 0.0\n",
    "    charge = 0\n",
    "    atom_count = 0\n",
    "    sequence = \"\"\n",
    "\n",
    "    # Iterate through residues and atoms\n",
    "    for residue in chain:\n",
    "        if PDB.is_aa(residue, standard=True):\n",
    "            seq_res = seq1(residue.resname)\n",
    "            sequence += seq_res\n",
    "            mass += molecular_weight(seq_res, seq_type=\"protein\")\n",
    "            for atom in residue:\n",
    "                atom_count += 1\n",
    "                # Approximate charge based on residue type\n",
    "                if seq_res in \"KRH\":\n",
    "                    charge += 1  # Basic residues\n",
    "                elif seq_res in \"DE\":\n",
    "                    charge -= 1  # Acidic residues\n",
    "\n",
    "    return mass, charge, atom_count, sequence\n",
    "\n",
    "# Load the cleaned structure\n",
    "#vhh_structure = parser.get_structure(\"vhh_structure\", \"vhh72.pdb\")\n",
    "\n",
    "# Get chain A from the cleaned structure\n",
    "#chain_A = cleaned_structure[0][chain_id]\n",
    "\n",
    "# Calculate properties\n",
    "mass, charge, atom_count, sequence = calculate_properties(chain_A)\n",
    "\n",
    "# Output the results\n",
    "print(f\"Chain ID: {chain_id}\")\n",
    "print(f\"Number of atoms: {atom_count}\")\n",
    "print(f\"Molecular mass: {mass:.2f} Da\")\n",
    "print(f\"Net charge: {charge}\")\n",
    "print(f\"Amino acid sequence: {sequence}\")\n",
    "print(f\"Sequence : {len(sequence)}\")"
   ]
  },
  {
   "cell_type": "code",
   "execution_count": 439,
   "id": "08b1d51a-5ac0-4e60-99b7-c6b9fda74fa3",
   "metadata": {},
   "outputs": [
    {
     "data": {
      "application/vnd.jupyter.widget-view+json": {
       "model_id": "6914e75ff5f2446fb9983a82d676e27b",
       "version_major": 2,
       "version_minor": 0
      },
      "text/plain": [
       "NGLWidget()"
      ]
     },
     "metadata": {},
     "output_type": "display_data"
    }
   ],
   "source": [
    "view = nv.show_file(\"vhh72.pdb\")\n",
    "view"
   ]
  },
  {
   "cell_type": "markdown",
   "id": "54c9a0c8-6e11-4043-827f-7ce7d6ce4e15",
   "metadata": {},
   "source": [
    "## Now that we have our Vhh72 extracted without water molecules becauses NAMD will raise errors when generating structural file from files with water molecules.\n",
    "\n",
    "## Let's introduce our VHH linker below. the VHH linker was designed in Spartan 24 and same result was optain from ChemDraw3D"
   ]
  },
  {
   "cell_type": "code",
   "execution_count": 440,
   "id": "a16c25a6-21a2-4e34-805e-360d986a1ed5",
   "metadata": {},
   "outputs": [
    {
     "data": {
      "application/vnd.jupyter.widget-view+json": {
       "model_id": "5a9dfa10756e4461b0b24ef3241adfc7",
       "version_major": 2,
       "version_minor": 0
      },
      "text/plain": [
       "NGLWidget()"
      ]
     },
     "metadata": {},
     "output_type": "display_data"
    }
   ],
   "source": [
    "nv.show_file(\"linker.pdb\")"
   ]
  },
  {
   "cell_type": "markdown",
   "id": "99ea6fa2-29a1-445f-86c8-1b8fbf929dba",
   "metadata": {},
   "source": [
    "## There is no gold atom connected to the linker because the charm force field algorithm crashes when generating parameter files with when running a designed ligand with metal atom included. we'll manually attached the the gold atom"
   ]
  },
  {
   "cell_type": "code",
   "execution_count": 280,
   "id": "e34e7980-267b-474b-b093-daaccc57d07d",
   "metadata": {},
   "outputs": [],
   "source": [
    "vhh = parser.get_structure(\"vhh\", \"vhh72.pdb\")\n",
    "\n",
    "last_residue = None\n",
    "for model in vhh:\n",
    "  for chain in model:\n",
    "    for residue in chain:\n",
    "      last_residue = residue  # Update last_residue for each residue\n",
    "\n",
    "# Access information of the last residue (if found)\n",
    "if last_residue:\n",
    "    resname = {}\n",
    "    for atom in last_residue.get_atoms():\n",
    "        resname[atom.get_name()] = atom.coord\n",
    "else:\n",
    "    print(\"No residues found in the structure.\")\n"
   ]
  },
  {
   "cell_type": "markdown",
   "id": "8d668617-d0e2-40c3-a96f-c9377fd9bf15",
   "metadata": {},
   "source": [
    "## The connection between the vhh and linker will be made on the carbonyl atom of the serine residue. So, lets get the coordinate of the carbonyl atom only."
   ]
  },
  {
   "cell_type": "code",
   "execution_count": 281,
   "id": "ffbef2ae-4f46-4706-be33-3d89df0c6bc4",
   "metadata": {},
   "outputs": [
    {
     "data": {
      "text/plain": [
       "{'N': [42.88399887084961, 62.0260009765625, 5.833000183105469],\n",
       " 'CA': [43.6609992980957, 61.09299850463867, 6.5320000648498535],\n",
       " 'C': [44.49700164794922, 61.584999084472656, 7.7129998207092285],\n",
       " 'O': [45.71500015258789, 61.63100051879883, 7.5960001945495605],\n",
       " 'CB': [44.59199905395508, 60.349998474121094, 5.539000034332275],\n",
       " 'OG': [45.847999572753906, 60.992000579833984, 5.370999813079834]}"
      ]
     },
     "execution_count": 281,
     "metadata": {},
     "output_type": "execute_result"
    }
   ],
   "source": [
    "ref_atom1 = {}\n",
    "for atom_name, coordinates in resname.items():\n",
    "  ref_atom1[atom_name] = coordinates.tolist()\n",
    "ref_atom1"
   ]
  },
  {
   "cell_type": "markdown",
   "id": "a4d30070-e808-4ace-9d2c-e3aabd0ed28b",
   "metadata": {},
   "source": [
    "## Get the coordinates of the linker to calculate the translocation vector"
   ]
  },
  {
   "cell_type": "markdown",
   "id": "0ac749a0-cc18-458d-8ec0-1bbaddf4f76f",
   "metadata": {},
   "source": [
    "### In order to avoid errors when iterating over each atom of the linker pdb file, you need to upload the pdb file to charmm-gui ligand modeller to generate charmm force field files and a more appropriate pdb file. https://charmm-gui.org/?doc=input/ligandrm"
   ]
  },
  {
   "cell_type": "code",
   "execution_count": 170,
   "id": "7a9a971b-40f2-4644-b996-520caccf8d82",
   "metadata": {},
   "outputs": [],
   "source": [
    "#download and untar the charmm file\n",
    "!tar -xf charmm-gui.tgz"
   ]
  },
  {
   "cell_type": "code",
   "execution_count": 173,
   "id": "10fe3ef6-d309-4327-93e7-5719534c24e8",
   "metadata": {},
   "outputs": [
    {
     "name": "stderr",
     "output_type": "stream",
     "text": [
      "mv: cannot stat 'charmm-gui-1991583921/': No such file or directory\n"
     ]
    }
   ],
   "source": [
    "!mv charmm-gui-1991583921/ charmm-gui-file"
   ]
  },
  {
   "cell_type": "code",
   "execution_count": 322,
   "id": "8d8efa55-88e6-407c-a964-bb0a33ee2496",
   "metadata": {},
   "outputs": [
    {
     "name": "stdout",
     "output_type": "stream",
     "text": [
      "S [1.766 4.617 2.57 ]\n",
      "C1 [1.769 2.785 2.43 ]\n",
      "H1 [1.785 2.359 3.458]\n",
      "H2 [2.7   2.442 1.926]\n",
      "C2 [0.545 2.19  1.665]\n",
      "H3 [-0.378  2.503  2.199]\n",
      "N1 [0.511 2.81  0.274]\n",
      "H4 [ 1.407  3.035 -0.152]\n",
      "H5 [-0.159  2.48  -0.413]\n",
      "C3 [0.607 0.648 1.764]\n",
      "O [0.613 0.056 2.843]\n",
      "H6 [ 0.612  0.447 -0.254]\n",
      "N2 [ 0.669 -0.039  0.611]\n",
      "C4 [ 0.854 -1.457  0.535]\n",
      "H7 [ 0.146 -1.981  1.218]\n",
      "H8 [ 1.886 -1.703  0.874]\n",
      "C5 [ 0.656 -1.936 -0.837]\n",
      "H9 [ 0.375 -2.624 -3.004]\n",
      "C6 [ 0.509 -2.291 -1.993]\n",
      "H10 [2.92  4.72  3.211]\n"
     ]
    }
   ],
   "source": [
    "ligandrm = parser.get_structure(\"ligandrm\", \"charmm-gui-file/ligandrm.pdb\")\n",
    "# Iterate through models, chains, residues, and atoms\n",
    "ref_linker_atom = {}\n",
    "for model in ligandrm:\n",
    "    for chain in model:\n",
    "        for residue in chain:\n",
    "            for atom in residue:\n",
    "                # Get the current coordinates\n",
    "                current_coords = atom.get_coord()\n",
    "                ref_linker_atom[atom.name] = current_coords.tolist()\n",
    "                print(atom.name, current_coords)"
   ]
  },
  {
   "cell_type": "code",
   "execution_count": 323,
   "id": "c17699a0-ee63-4a79-996c-98cafe55ffc9",
   "metadata": {},
   "outputs": [
    {
     "data": {
      "text/plain": [
       "[0.5109999775886536, 2.809999942779541, 0.27399998903274536]"
      ]
     },
     "execution_count": 323,
     "metadata": {},
     "output_type": "execute_result"
    }
   ],
   "source": [
    "#Get th reference coordinate of the linker atom\n",
    "ref_linker_atom[\"N1\"]"
   ]
  },
  {
   "cell_type": "markdown",
   "id": "fe07ded1-c00f-4249-a5c9-ead2faa8beb9",
   "metadata": {},
   "source": [
    "## Find the translocation vector"
   ]
  },
  {
   "cell_type": "code",
   "execution_count": 324,
   "id": "42e450b2-8b41-416b-a771-e5b3b0595c34",
   "metadata": {},
   "outputs": [
    {
     "data": {
      "text/plain": [
       "[43.986001670360565, 58.774999141693115, 7.438999831676483]"
      ]
     },
     "execution_count": 324,
     "metadata": {},
     "output_type": "execute_result"
    }
   ],
   "source": [
    "coord_ref_atom_vhh = ref_atom1[\"C\"]\n",
    "coord_ref_atom_linker = ref_linker_atom[\"N1\"] \n",
    "\n",
    "# Calculate the translation vector (difference in coordinates)\n",
    "translation_vector = [(a1 - a2) for a1, a2 in zip(coord_ref_atom_vhh, coord_ref_atom_linker)]\n",
    "translation_vector"
   ]
  },
  {
   "cell_type": "markdown",
   "id": "71ec5162-8351-4b15-9bf0-7a8082f8b39e",
   "metadata": {},
   "source": [
    "## Now apply the translocation vector by moving every atom coordinates by a distance of the translocation vector"
   ]
  },
  {
   "cell_type": "code",
   "execution_count": 325,
   "id": "0c6793a3-2d65-4ce8-acc0-6b7c83d79e67",
   "metadata": {},
   "outputs": [],
   "source": [
    "# Iterate through each atom of the linker and add the TV\n",
    "ref_linker_atom = {}\n",
    "for model in ligandrm:\n",
    "    for chain in model:\n",
    "        for residue in chain:\n",
    "            for atom in residue:\n",
    "                current_coords = atom.get_coord()\n",
    "                new_coords = [coord + translation for coord, translation in zip(current_coords, translation_vector)]\n",
    "                atom.set_coord(new_coords)"
   ]
  },
  {
   "cell_type": "markdown",
   "id": "bbba473a-b014-45e1-80c1-7446decca2ca",
   "metadata": {},
   "source": [
    "#### bonds are automatically created at close distances, so we have to modify the transvector code up there to maintain and an average distance between the N1 and Carbonyl while keeping other atoms at safer distance preventing unwanted bonds"
   ]
  },
  {
   "cell_type": "code",
   "execution_count": 327,
   "id": "c6fba7d7-4341-4eae-b61f-d099e260a2d0",
   "metadata": {},
   "outputs": [],
   "source": [
    "for model in ligandrm:\n",
    "    for chain in model:\n",
    "        for residue in chain:\n",
    "            for atom in residue:\n",
    "                current_coords = atom.get_coord()\n",
    "                x, y, z = atom.get_coord()\n",
    "                atom.set_coord([x - 1, y, z + 1])"
   ]
  },
  {
   "cell_type": "code",
   "execution_count": 328,
   "id": "52b14026-adc8-4cdb-9b6a-cad3cda78da3",
   "metadata": {},
   "outputs": [],
   "source": [
    "#safe the new coordinates\n",
    "io = PDBIO()\n",
    "io.set_structure(ligandrm)\n",
    "io.save(\"translated_linker.pdb\")"
   ]
  },
  {
   "cell_type": "markdown",
   "id": "1f83c54b-c3f0-4dcc-864e-6d13a8e5c9fb",
   "metadata": {},
   "source": [
    "#### Create a new pdb file with the combine structure of both nanobody and the new linker moved to the binding site of the nanobody"
   ]
  },
  {
   "cell_type": "code",
   "execution_count": 361,
   "id": "50e55073-f350-41e1-adac-30979870186b",
   "metadata": {},
   "outputs": [
    {
     "name": "stdout",
     "output_type": "stream",
     "text": [
      "Combined structure written to output_file\n"
     ]
    }
   ],
   "source": [
    "# Open both input files and the output file\n",
    "with open(\"vhh72.pdb\", \"r\") as vhh_file, \\\n",
    "     open(\"translated_linker.pdb\", \"r\") as translocated_file, \\\n",
    "     open(\"vhh_linker.pdb\", \"w\") as output_file:\n",
    "\n",
    "    # write the vhh information to a new file excluding the last line containing the end statement.\n",
    "    lines_to_copy = []\n",
    "    for line in vhh_file:\n",
    "        lines_to_copy.append(line)\n",
    "    lines_to_copy = lines_to_copy[:-1]\n",
    "    output_file.writelines(lines_to_copy)\n",
    "         \n",
    "    # Copy lines from translocated_linker.pdb to the output file\n",
    "    for line in translocated_file:\n",
    "        if line.startswith(('ATOM')):\n",
    "            current_atom_name = line[12:16].strip()\n",
    "            current_res_name = line[17:20].strip()\n",
    "            # Skip the line if it matches the atom name and residue name\n",
    "            if current_atom_name == 'H4' and current_res_name == 'LIG':\n",
    "                continue\n",
    "            if current_atom_name == 'H10' and current_res_name == 'LIG':\n",
    "                continue\n",
    "        # Write all other lines to the output file\n",
    "        output_file.write(line)\n",
    "\n",
    "print(\"Combined structure written to output_file\")\n"
   ]
  },
  {
   "cell_type": "markdown",
   "id": "fd8ed3cf-90e4-4575-b1fd-2f194f20427b",
   "metadata": {},
   "source": [
    "#### In the above process when writing the linker coordinates, we exluced one of the nitrogen's hydrogen. In order to form carbamoylation, Nitrogen looses one hydrogen to bond with the carbonyl atom. We all excluded the sulfur hydrogen since we will be introducing the gold atom below"
   ]
  },
  {
   "cell_type": "markdown",
   "id": "728e3ba6-72bd-4622-950e-8215e6c61b3e",
   "metadata": {},
   "source": [
    "### Add description to the new file"
   ]
  },
  {
   "cell_type": "code",
   "execution_count": 362,
   "id": "2d7f152e-2a03-4505-b406-967623cfaaa9",
   "metadata": {},
   "outputs": [
    {
     "name": "stdout",
     "output_type": "stream",
     "text": [
      "Description added to vhh_linker.pdb\n"
     ]
    }
   ],
   "source": [
    "output_combined_file = \"vhh_linker.pdb\"\n",
    "description = \"HEADER      CRYSTAL STRUCTURE OF VHH72 CONNECTED TO LINKER\\n\"\n",
    "description += \"TITLE        SINGLE-DOMAIN ANTIBODY VHH-72\\n\"\n",
    "description += \"TITLE        2-AMINO-3-MERCAPTO-N-(PROP-2-YNYL)PROPIONAMIDE\\n\"\n",
    "description += \"REMARK      LINKER FROM PUBCHEM, DISIGNED IN SPARTAN TRANSFORMED IN CHARMM-GUI\\n\"\n",
    "description += \"REMARK      DATE:     7/ 2/24      6:24:39      CREATED BY USER: VAir\\n\"\n",
    "gold_atom = \"HETATM   20  AU  LIG L   1      44.752  64.392  11.009  1.00  0.00      LIG AU\\n\"\n",
    "connect_au = \"CONECT    1   20\\n\"\n",
    "\n",
    "# Read the existing contents of vhh_linker.pdb\n",
    "with open(output_combined_file, \"r\") as f:\n",
    "    lines = f.readlines()\n",
    "\n",
    "# Insert the description at the beginning of the file\n",
    "lines.insert(0, description)\n",
    "lines.insert(-2, gold_atom)\n",
    "lines.insert(-1, connect_au)\n",
    "\n",
    "# Write the updated contents back to vhh_linker.pdb\n",
    "with open(output_combined_file, \"w\") as f:\n",
    "    f.writelines(lines)\n",
    "\n",
    "print(f\"Description added to {output_combined_file}\")"
   ]
  },
  {
   "cell_type": "code",
   "execution_count": 415,
   "id": "afe40007-fff7-41e3-a55a-0e88c697fcc8",
   "metadata": {
    "scrolled": true
   },
   "outputs": [
    {
     "data": {
      "application/vnd.jupyter.widget-view+json": {
       "model_id": "1d60e636c1c34abdbedd235b5767e5ff",
       "version_major": 2,
       "version_minor": 0
      },
      "text/plain": [
       "NGLWidget()"
      ]
     },
     "metadata": {},
     "output_type": "display_data"
    }
   ],
   "source": [
    "# Load the structure file (assuming vhh_linker.pdb is your structure file)\n",
    "view = nv.show_structure_file(\"vhh_linker.pdb\")\n",
    "\n",
    "# Change the representation to CPK (spacefill)\n",
    "view.clear_representations()\n",
    "view.add_representation(\"ball+stick\", selection=\"all\")\n",
    "view"
   ]
  },
  {
   "cell_type": "markdown",
   "id": "1f889e96-5418-4514-98cb-4c4cf6e51091",
   "metadata": {},
   "source": [
    "#### Spartan designs ligand with gold atom but charmm-gui crashes when transformming a ligand with gold atom, so we would add this gold atom manually, and later in the NAMD force field simulaitons, we will add the gold atom parameters coordinates manually in the charmm force field files"
   ]
  },
  {
   "cell_type": "markdown",
   "id": "84724b2e-3d33-48d9-9751-3c3e825e1f74",
   "metadata": {},
   "source": [
    "#### Bellow we'll upload the protein linker structure to fpocket to find the binding pocket. this will help to observe the orientation of the structure and weather the linker will in anyway obstruct the activity of the nanobody."
   ]
  },
  {
   "cell_type": "code",
   "execution_count": 416,
   "id": "7f55d861-ada8-467c-a473-b7bcf5344203",
   "metadata": {},
   "outputs": [
    {
     "data": {
      "application/vnd.jupyter.widget-view+json": {
       "model_id": "11589ce2e91d4ec28810c537fa3bba39",
       "version_major": 2,
       "version_minor": 0
      },
      "text/plain": [
       "NGLWidget()"
      ]
     },
     "metadata": {},
     "output_type": "display_data"
    }
   ],
   "source": [
    "view = view = nv.show_structure_file(\"vhh_linker_pocket.pdb\")\n",
    "\n",
    "view.clear_representations()\n",
    "view.add_representation(\"ball+stick\", selection=\":A\")\n",
    "view.add_representation(\"spacefill\", selection=\":L\")\n",
    "view.add_representation(\"surface\", selection=\"1:C\", color = \"red\")\n",
    "view.add_representation(\"surface\", selection=\"2:C\")\n",
    "view.add_representation(\"surface\", selection=\"3:C\", color = \"green\")\n",
    "view.add_representation(\"surface\", selection=\"4:C\", color = \"pink\")\n",
    "view.add_representation(\"surface\", selection=\"5:C\", color = \"purple\")\n",
    "view"
   ]
  },
  {
   "cell_type": "markdown",
   "id": "3b0bfdbb-d899-48d8-a41b-9a1a9d580648",
   "metadata": {},
   "source": [
    "#### Fpocket predicted 5 pockets, with pocket 1 (red) being the most prominent with the largets surface volume for van der waals interactions."
   ]
  },
  {
   "cell_type": "code",
   "execution_count": 436,
   "id": "732903e5-fbc9-4e63-81f0-778d147d0624",
   "metadata": {},
   "outputs": [
    {
     "data": {
      "application/vnd.jupyter.widget-view+json": {
       "model_id": "0f99179c15f94659bef7f8db2f08e85a",
       "version_major": 2,
       "version_minor": 0
      },
      "text/plain": [
       "NGLWidget()"
      ]
     },
     "metadata": {},
     "output_type": "display_data"
    }
   ],
   "source": [
    "view = nv.show_structure_file(\"vhh_linker_pocket.pdb\")\n",
    "\n",
    "view.clear_representations()\n",
    "view.add_representation(\"ball+stick\", selection=\":A\")\n",
    "view.add_representation(\"spacefill\", selection=\":L\")\n",
    "view.add_representation(\"surface\", selection=\"1:C\", color = \"red\")\n",
    "view"
   ]
  },
  {
   "cell_type": "markdown",
   "id": "cabefbe4-2cfd-4ae2-84f8-d3f97d3e62f1",
   "metadata": {},
   "source": [
    "### Now let's proceed to namd to start the molecular dynamics simulations. we will start by solvating the system and predicting any missing atoms should in cases there is one to avoid simulation errors donwlstream. first let's use charmm-gui to generate the force field parameters"
   ]
  }
 ],
 "metadata": {
  "kernelspec": {
   "display_name": "Python 3 (ipykernel)",
   "language": "python",
   "name": "python3"
  },
  "language_info": {
   "codemirror_mode": {
    "name": "ipython",
    "version": 3
   },
   "file_extension": ".py",
   "mimetype": "text/x-python",
   "name": "python",
   "nbconvert_exporter": "python",
   "pygments_lexer": "ipython3",
   "version": "3.12.2"
  }
 },
 "nbformat": 4,
 "nbformat_minor": 5
}
