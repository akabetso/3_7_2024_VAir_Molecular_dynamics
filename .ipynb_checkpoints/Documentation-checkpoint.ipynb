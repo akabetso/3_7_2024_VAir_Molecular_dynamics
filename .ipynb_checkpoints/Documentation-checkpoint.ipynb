{
 "cells": [
  {
   "cell_type": "markdown",
   "id": "cf286a85-b14b-4cb1-9645-783edbbcbb2e",
   "metadata": {},
   "source": [
    "# Crystal structure of the SARS-CoV-1 RBD bound by the cross-reactive single-domain antibody SARS VHH-72\n",
    "\n",
    "## https://www.rcsb.org/structure/6WAQ"
   ]
  },
  {
   "cell_type": "code",
   "execution_count": 235,
   "id": "c9456be8-90f2-4b94-82ac-c050a7e01bbc",
   "metadata": {},
   "outputs": [],
   "source": [
    "import nglview as nv\n",
    "from Bio import PDB\n",
    "from Bio.SeqUtils import molecular_weight\n",
    "from Bio.SeqUtils import seq1\n",
    "from Bio.PDB import PDBIO"
   ]
  },
  {
   "cell_type": "code",
   "execution_count": 153,
   "id": "12c3c0e9-5b1c-4913-81b1-5b29d93ae561",
   "metadata": {},
   "outputs": [
    {
     "data": {
      "application/vnd.jupyter.widget-view+json": {
       "model_id": "f77f6abe09ec42d591b38cdbc76f1f00",
       "version_major": 2,
       "version_minor": 0
      },
      "text/plain": [
       "NGLWidget()"
      ]
     },
     "metadata": {},
     "output_type": "display_data"
    }
   ],
   "source": [
    "view = nv.show_file(\"6waq.pdb\")\n",
    "view"
   ]
  },
  {
   "cell_type": "markdown",
   "id": "f7800902-f384-4508-9fa8-99f282398ee1",
   "metadata": {},
   "source": [
    "## The pdb file is made up of two christalized copies of vhh72 bound to to Sars-Cov-2 spike/Glycan protein (chain A bound to chain C and chain B bound to chain D, chain C and D not shown on figure). since our protein of interest is the vhh72 nanobody, we need to extract only this (chain A)"
   ]
  },
  {
   "cell_type": "code",
   "execution_count": 156,
   "id": "934480a2-8f25-4798-9e35-b19769c9735f",
   "metadata": {},
   "outputs": [
    {
     "name": "stdout",
     "output_type": "stream",
     "text": [
      "Chain ID: A\n",
      "Number of atoms: 970\n",
      "Molecular mass: 16042.88 Da\n",
      "Net charge: 1\n",
      "Amino acid sequence: QVQLQESGGGLVQAGGSLRLSCAASGRTFSEYAMGWFRQAPGKEREFVATISWSGGSTYYTDSVKGRFTISRDNAKNTVYLQMNSLKPDDTAVYYCAAAGLGTVVSEWDYDYDYWGQGTQVTVSSGS\n",
      "Sequence : 127\n"
     ]
    }
   ],
   "source": [
    "# Class for selecting a specific chain and removing water molecules\n",
    "class ChainAWithoutWaterSelect(PDB.Select):\n",
    "    def __init__(self, chain_id):\n",
    "        self.chain_id = chain_id\n",
    "\n",
    "    def accept_chain(self, chain):\n",
    "        return chain.id == self.chain_id\n",
    "\n",
    "    def accept_residue(self, residue):\n",
    "        return residue.id[0] == \" \"  # Accept only standard residues, not waters or heteroatoms\n",
    "\n",
    "# Load the PDB file\n",
    "parser = PDB.PDBParser(QUIET=True)\n",
    "structure = parser.get_structure(\"structure\", \"6waq.pdb\")\n",
    "linker = parser.get_structure(\"linker\", \"linker.pdb\")\n",
    "\n",
    "# Extract chain A and remove water molecules\n",
    "chain_id = 'A'\n",
    "io = PDB.PDBIO()\n",
    "io.set_structure(structure)\n",
    "io.save(\"vhh72.pdb\", ChainAWithoutWaterSelect(chain_id))\n",
    "\n",
    "# Function to calculate properties\n",
    "def calculate_properties(chain):\n",
    "    mass = 0.0\n",
    "    charge = 0\n",
    "    atom_count = 0\n",
    "    sequence = \"\"\n",
    "\n",
    "    # Iterate through residues and atoms\n",
    "    for residue in chain:\n",
    "        if PDB.is_aa(residue, standard=True):\n",
    "            seq_res = seq1(residue.resname)\n",
    "            sequence += seq_res\n",
    "            mass += molecular_weight(seq_res, seq_type=\"protein\")\n",
    "            for atom in residue:\n",
    "                atom_count += 1\n",
    "                # Approximate charge based on residue type\n",
    "                if seq_res in \"KRH\":\n",
    "                    charge += 1  # Basic residues\n",
    "                elif seq_res in \"DE\":\n",
    "                    charge -= 1  # Acidic residues\n",
    "\n",
    "    return mass, charge, atom_count, sequence\n",
    "\n",
    "# Load the cleaned structure\n",
    "vhh_structure = parser.get_structure(\"vhh_structure\", \"vhh72.pdb\")\n",
    "\n",
    "# Get chain A from the cleaned structure\n",
    "chain_A = vhh_structure[0][chain_id]\n",
    "\n",
    "# Calculate properties\n",
    "mass, charge, atom_count, sequence = calculate_properties(chain_A)\n",
    "\n",
    "# Output the results\n",
    "print(f\"Chain ID: {chain_id}\")\n",
    "print(f\"Number of atoms: {atom_count}\")\n",
    "print(f\"Molecular mass: {mass:.2f} Da\")\n",
    "print(f\"Net charge: {charge}\")\n",
    "print(f\"Amino acid sequence: {sequence}\")\n",
    "print(f\"Sequence : {len(sequence)}\")"
   ]
  },
  {
   "cell_type": "code",
   "execution_count": 157,
   "id": "08b1d51a-5ac0-4e60-99b7-c6b9fda74fa3",
   "metadata": {},
   "outputs": [
    {
     "data": {
      "application/vnd.jupyter.widget-view+json": {
       "model_id": "ae13302e2ad84167af66ff85ed6bba6a",
       "version_major": 2,
       "version_minor": 0
      },
      "text/plain": [
       "NGLWidget()"
      ]
     },
     "metadata": {},
     "output_type": "display_data"
    }
   ],
   "source": [
    "view = nv.show_file(\"vhh72.pdb\")\n",
    "view"
   ]
  },
  {
   "cell_type": "markdown",
   "id": "54c9a0c8-6e11-4043-827f-7ce7d6ce4e15",
   "metadata": {},
   "source": [
    "## Now that we have our Vhh72 extracted without water molecules becauses NAMD will raise errors when generating structural file from files with water molecules.\n",
    "\n",
    "## Let's introduce our VHH linker below. the VHH linker was designed in Spartan 24 and same result was optain from ChemDraw3D"
   ]
  },
  {
   "cell_type": "code",
   "execution_count": 158,
   "id": "a16c25a6-21a2-4e34-805e-360d986a1ed5",
   "metadata": {},
   "outputs": [
    {
     "data": {
      "application/vnd.jupyter.widget-view+json": {
       "model_id": "da5a274618b54006a44170890c1c615c",
       "version_major": 2,
       "version_minor": 0
      },
      "text/plain": [
       "NGLWidget()"
      ]
     },
     "metadata": {},
     "output_type": "display_data"
    }
   ],
   "source": [
    "nv.show_file(\"linker.pdb\")"
   ]
  },
  {
   "cell_type": "markdown",
   "id": "99ea6fa2-29a1-445f-86c8-1b8fbf929dba",
   "metadata": {},
   "source": [
    "## There is no gold atom connected to the linker because the charm force field algorithm crashes when generating parameter files with when running a designed ligand with metal atom included. we'll manually attached the the gold atom"
   ]
  },
  {
   "cell_type": "code",
   "execution_count": 159,
   "id": "e34e7980-267b-474b-b093-daaccc57d07d",
   "metadata": {},
   "outputs": [],
   "source": [
    "vhh = parser.get_structure(\"vhh\", \"vhh72.pdb\")\n",
    "\n",
    "last_residue = None\n",
    "for model in vhh:\n",
    "  for chain in model:\n",
    "    for residue in chain:\n",
    "      last_residue = residue  # Update last_residue for each residue\n",
    "\n",
    "# Access information of the last residue (if found)\n",
    "if last_residue:\n",
    "    resname = {}\n",
    "    for atom in last_residue.get_atoms():\n",
    "        resname[atom.get_name()] = atom.coord\n",
    "else:\n",
    "    print(\"No residues found in the structure.\")\n"
   ]
  },
  {
   "cell_type": "markdown",
   "id": "8d668617-d0e2-40c3-a96f-c9377fd9bf15",
   "metadata": {},
   "source": [
    "## The connection between the vhh and linker will be made on the carbonyl atom of the serine residue. So, lets get the coordinate of the carbonyl atom only."
   ]
  },
  {
   "cell_type": "code",
   "execution_count": 160,
   "id": "ffbef2ae-4f46-4706-be33-3d89df0c6bc4",
   "metadata": {},
   "outputs": [
    {
     "data": {
      "text/plain": [
       "{'N': [42.88399887084961, 62.0260009765625, 5.833000183105469],\n",
       " 'CA': [43.6609992980957, 61.09299850463867, 6.5320000648498535],\n",
       " 'C': [44.49700164794922, 61.584999084472656, 7.7129998207092285],\n",
       " 'O': [45.71500015258789, 61.63100051879883, 7.5960001945495605],\n",
       " 'CB': [44.59199905395508, 60.349998474121094, 5.539000034332275],\n",
       " 'OG': [45.847999572753906, 60.992000579833984, 5.370999813079834]}"
      ]
     },
     "execution_count": 160,
     "metadata": {},
     "output_type": "execute_result"
    }
   ],
   "source": [
    "ref_atom1 = {}\n",
    "for atom_name, coordinates in resname.items():\n",
    "  ref_atom1[atom_name] = coordinates.tolist()\n",
    "ref_atom1"
   ]
  },
  {
   "cell_type": "markdown",
   "id": "a4d30070-e808-4ace-9d2c-e3aabd0ed28b",
   "metadata": {},
   "source": [
    "## Get the coordinates of the linker to calculate the translocation vector"
   ]
  },
  {
   "cell_type": "markdown",
   "id": "0ac749a0-cc18-458d-8ec0-1bbaddf4f76f",
   "metadata": {},
   "source": [
    "### In order to avoid errors when iterating over each atom of the linker pdb file, you need to upload the pdb file to charmm-gui ligand modeller to generate charmm force field files and a more appropriate pdb file. https://charmm-gui.org/?doc=input/ligandrm"
   ]
  },
  {
   "cell_type": "code",
   "execution_count": 161,
   "id": "7a9a971b-40f2-4644-b996-520caccf8d82",
   "metadata": {},
   "outputs": [],
   "source": [
    "#download and untar the charmm file\n",
    "!tar -xf charmm-gui.tgz"
   ]
  },
  {
   "cell_type": "code",
   "execution_count": 163,
   "id": "10fe3ef6-d309-4327-93e7-5719534c24e8",
   "metadata": {},
   "outputs": [],
   "source": [
    "#!mv charmm-gui-1991583921/ charmm-gui-file"
   ]
  },
  {
   "cell_type": "code",
   "execution_count": 164,
   "id": "8d8efa55-88e6-407c-a964-bb0a33ee2496",
   "metadata": {},
   "outputs": [
    {
     "name": "stdout",
     "output_type": "stream",
     "text": [
      "S [1.766 4.617 2.57 ]\n",
      "C1 [1.769 2.785 2.43 ]\n",
      "H1 [1.785 2.359 3.458]\n",
      "H2 [2.7   2.442 1.926]\n",
      "C2 [0.545 2.19  1.665]\n",
      "H3 [-0.378  2.503  2.199]\n",
      "N1 [0.511 2.81  0.274]\n",
      "H4 [ 1.407  3.035 -0.152]\n",
      "H5 [-0.159  2.48  -0.413]\n",
      "C3 [0.607 0.648 1.764]\n",
      "O [0.613 0.056 2.843]\n",
      "H6 [ 0.612  0.447 -0.254]\n",
      "N2 [ 0.669 -0.039  0.611]\n",
      "C4 [ 0.854 -1.457  0.535]\n",
      "H7 [ 0.146 -1.981  1.218]\n",
      "H8 [ 1.886 -1.703  0.874]\n",
      "C5 [ 0.656 -1.936 -0.837]\n",
      "H9 [ 0.375 -2.624 -3.004]\n",
      "C6 [ 0.509 -2.291 -1.993]\n",
      "H10 [2.92  4.72  3.211]\n"
     ]
    }
   ],
   "source": [
    "ligandrm = parser.get_structure(\"ligandrm\", \"charmm-gui-file/ligandrm.pdb\")\n",
    "# Iterate through models, chains, residues, and atoms\n",
    "ref_linker_atom = {}\n",
    "for model in ligandrm:\n",
    "    for chain in model:\n",
    "        for residue in chain:\n",
    "            for atom in residue:\n",
    "                # Get the current coordinates\n",
    "                current_coords = atom.get_coord()\n",
    "                ref_linker_atom[atom.name] = current_coords.tolist()\n",
    "                print(atom.name, current_coords)"
   ]
  },
  {
   "cell_type": "code",
   "execution_count": 165,
   "id": "c17699a0-ee63-4a79-996c-98cafe55ffc9",
   "metadata": {},
   "outputs": [
    {
     "data": {
      "text/plain": [
       "[0.5109999775886536, 2.809999942779541, 0.27399998903274536]"
      ]
     },
     "execution_count": 165,
     "metadata": {},
     "output_type": "execute_result"
    }
   ],
   "source": [
    "#Get th reference coordinate of the linker atom\n",
    "ref_linker_atom[\"N1\"]"
   ]
  },
  {
   "cell_type": "markdown",
   "id": "fe07ded1-c00f-4249-a5c9-ead2faa8beb9",
   "metadata": {},
   "source": [
    "## Find the translocation vector"
   ]
  },
  {
   "cell_type": "code",
   "execution_count": 166,
   "id": "42e450b2-8b41-416b-a771-e5b3b0595c34",
   "metadata": {},
   "outputs": [
    {
     "data": {
      "text/plain": [
       "[43.986001670360565, 58.774999141693115, 7.438999831676483]"
      ]
     },
     "execution_count": 166,
     "metadata": {},
     "output_type": "execute_result"
    }
   ],
   "source": [
    "coord_ref_atom_vhh = ref_atom1[\"C\"]\n",
    "coord_ref_atom_linker = ref_linker_atom[\"N1\"] \n",
    "\n",
    "# Calculate the translation vector (difference in coordinates)\n",
    "translation_vector = [(a1 - a2) for a1, a2 in zip(coord_ref_atom_vhh, coord_ref_atom_linker)]\n",
    "translation_vector"
   ]
  },
  {
   "cell_type": "markdown",
   "id": "71ec5162-8351-4b15-9bf0-7a8082f8b39e",
   "metadata": {},
   "source": [
    "## Now apply the translocation vector by moving every atom coordinates by a distance of the translocation vector"
   ]
  },
  {
   "cell_type": "code",
   "execution_count": 167,
   "id": "0c6793a3-2d65-4ce8-acc0-6b7c83d79e67",
   "metadata": {},
   "outputs": [],
   "source": [
    "# Iterate through each atom of the linker and add the TV\n",
    "ref_linker_atom = {}\n",
    "for model in ligandrm:\n",
    "    for chain in model:\n",
    "        for residue in chain:\n",
    "            for atom in residue:\n",
    "                current_coords = atom.get_coord()\n",
    "                new_coords = [coord + translation for coord, translation in zip(current_coords, translation_vector)]\n",
    "                atom.set_coord(new_coords)"
   ]
  },
  {
   "cell_type": "markdown",
   "id": "bbba473a-b014-45e1-80c1-7446decca2ca",
   "metadata": {},
   "source": [
    "#### bonds are automatically created at close distances, so we have to modify the transvector code up there to maintain and an average distance between the N1 and Carbonyl while keeping other atoms at safer distance preventing unwanted bonds"
   ]
  },
  {
   "cell_type": "code",
   "execution_count": 168,
   "id": "c6fba7d7-4341-4eae-b61f-d099e260a2d0",
   "metadata": {},
   "outputs": [],
   "source": [
    "for model in ligandrm:\n",
    "    for chain in model:\n",
    "        for residue in chain:\n",
    "            for atom in residue:\n",
    "                current_coords = atom.get_coord()\n",
    "                x, y, z = atom.get_coord()\n",
    "                atom.set_coord([x - 1, y, z + 1])"
   ]
  },
  {
   "cell_type": "code",
   "execution_count": 171,
   "id": "52b14026-adc8-4cdb-9b6a-cad3cda78da3",
   "metadata": {},
   "outputs": [],
   "source": [
    "#safe the new coordinates\n",
    "io = PDBIO()\n",
    "io.set_structure(ligandrm)\n",
    "io.save(\"translated_linker.pdb\")"
   ]
  },
  {
   "cell_type": "markdown",
   "id": "1f83c54b-c3f0-4dcc-864e-6d13a8e5c9fb",
   "metadata": {},
   "source": [
    "#### Create a new pdb file with the combine structure of both nanobody and the new linker moved to the binding site of the nanobody"
   ]
  },
  {
   "cell_type": "code",
   "execution_count": 172,
   "id": "50e55073-f350-41e1-adac-30979870186b",
   "metadata": {},
   "outputs": [
    {
     "name": "stdout",
     "output_type": "stream",
     "text": [
      "Combined structure written to output_file\n"
     ]
    }
   ],
   "source": [
    "# Open both input files and the output file\n",
    "with open(\"vhh72.pdb\", \"r\") as vhh_file, \\\n",
    "     open(\"translated_linker.pdb\", \"r\") as translocated_file, \\\n",
    "     open(\"vhh_linker.pdb\", \"w\") as output_file:\n",
    "\n",
    "    # write the vhh information to a new file excluding the last line containing the end statement.\n",
    "    lines_to_copy = []\n",
    "    for line in vhh_file:\n",
    "        lines_to_copy.append(line)\n",
    "    lines_to_copy = lines_to_copy[:-1]\n",
    "    output_file.writelines(lines_to_copy)\n",
    "         \n",
    "    # Copy lines from translocated_linker.pdb to the output file\n",
    "    for line in translocated_file:\n",
    "        if line.startswith(('ATOM')):\n",
    "            current_atom_name = line[12:16].strip()\n",
    "            current_res_name = line[17:20].strip()\n",
    "            # Skip the line if it matches the atom name and residue name\n",
    "            if current_atom_name == 'H4' and current_res_name == 'LIG':\n",
    "                continue\n",
    "            if current_atom_name == 'H10' and current_res_name == 'LIG':\n",
    "                continue\n",
    "        # Write all other lines to the output file\n",
    "        output_file.write(line)\n",
    "\n",
    "print(\"Combined structure written to output_file\")"
   ]
  },
  {
   "cell_type": "markdown",
   "id": "fd8ed3cf-90e4-4575-b1fd-2f194f20427b",
   "metadata": {},
   "source": [
    "#### In the above process when writing the linker coordinates, we exluced one of the nitrogen's hydrogen. In order to form carbamoylation, Nitrogen looses one hydrogen to bond with the carbonyl atom. We all excluded the sulfur hydrogen since we will be introducing the gold atom below"
   ]
  },
  {
   "cell_type": "markdown",
   "id": "728e3ba6-72bd-4622-950e-8215e6c61b3e",
   "metadata": {},
   "source": [
    "### Add description to the new file"
   ]
  },
  {
   "cell_type": "code",
   "execution_count": 173,
   "id": "2d7f152e-2a03-4505-b406-967623cfaaa9",
   "metadata": {},
   "outputs": [
    {
     "name": "stdout",
     "output_type": "stream",
     "text": [
      "Description added to vhh_linker.pdb\n"
     ]
    }
   ],
   "source": [
    "output_combined_file = \"vhh_linker.pdb\"\n",
    "description = \"HEADER      CRYSTAL STRUCTURE OF VHH72 CONNECTED TO LINKER\\n\"\n",
    "description += \"TITLE        SINGLE-DOMAIN ANTIBODY VHH-72\\n\"\n",
    "description += \"TITLE        2-AMINO-3-MERCAPTO-N-(PROP-2-YNYL)PROPIONAMIDE\\n\"\n",
    "description += \"REMARK      LINKER FROM PUBCHEM, DISIGNED IN SPARTAN TRANSFORMED IN CHARMM-GUI\\n\"\n",
    "description += \"REMARK      DATE:     7/ 2/24      6:24:39      CREATED BY USER: VAir\\n\"\n",
    "gold_atom = \"HETATM   20  AU  LIG L   1      44.752  64.392  11.009  1.00  0.00      LIG AU\\n\"\n",
    "connect_au = \"CONECT    1   20\\n\"\n",
    "\n",
    "# Read the existing contents of vhh_linker.pdb\n",
    "with open(output_combined_file, \"r\") as f:\n",
    "    lines = f.readlines()\n",
    "\n",
    "# Insert the description at the beginning of the file\n",
    "lines.insert(0, description)\n",
    "lines.insert(-2, gold_atom)\n",
    "lines.insert(-1, connect_au)\n",
    "\n",
    "# Write the updated contents back to vhh_linker.pdb\n",
    "with open(output_combined_file, \"w\") as f:\n",
    "    f.writelines(lines)\n",
    "\n",
    "print(f\"Description added to {output_combined_file}\")"
   ]
  },
  {
   "cell_type": "code",
   "execution_count": 176,
   "id": "afe40007-fff7-41e3-a55a-0e88c697fcc8",
   "metadata": {
    "scrolled": true
   },
   "outputs": [
    {
     "data": {
      "application/vnd.jupyter.widget-view+json": {
       "model_id": "484ac3c7a7fa49888d8ec0e034a05708",
       "version_major": 2,
       "version_minor": 0
      },
      "text/plain": [
       "NGLWidget()"
      ]
     },
     "metadata": {},
     "output_type": "display_data"
    }
   ],
   "source": [
    "# Load the structure file (assuming vhh_linker.pdb is your structure file)\n",
    "view = nv.show_structure_file(\"vhh_linker.pdb\")\n",
    "\n",
    "# Change the representation to CPK (spacefill)\n",
    "view.clear_representations()\n",
    "view.add_representation(\"ball+stick\", selection=\":A\")\n",
    "view.add_representation(\"spacefill\", selection=\":L\")\n",
    "view"
   ]
  },
  {
   "cell_type": "markdown",
   "id": "1f889e96-5418-4514-98cb-4c4cf6e51091",
   "metadata": {},
   "source": [
    "#### Spartan designs ligand with gold atom but charmm-gui crashes when transformming a ligand with gold atom, so we would add this gold atom manually, and later in the NAMD force field simulaitons, we will add the gold atom parameters coordinates manually in the charmm force field files"
   ]
  },
  {
   "cell_type": "markdown",
   "id": "84724b2e-3d33-48d9-9751-3c3e825e1f74",
   "metadata": {},
   "source": [
    "#### Bellow we'll upload the protein linker structure to fpocket to find the binding pocket. this will help to observe the orientation of the structure and weather the linker will in anyway obstruct the activity of the nanobody."
   ]
  },
  {
   "cell_type": "code",
   "execution_count": 175,
   "id": "7f55d861-ada8-467c-a473-b7bcf5344203",
   "metadata": {},
   "outputs": [
    {
     "data": {
      "application/vnd.jupyter.widget-view+json": {
       "model_id": "2762277e235e4861a803b68ec3285d61",
       "version_major": 2,
       "version_minor": 0
      },
      "text/plain": [
       "NGLWidget()"
      ]
     },
     "metadata": {},
     "output_type": "display_data"
    }
   ],
   "source": [
    "view = view = nv.show_structure_file(\"vhh_linker_pocket.pdb\")\n",
    "\n",
    "view.clear_representations()\n",
    "view.add_representation(\"ball+stick\", selection=\":A\")\n",
    "view.add_representation(\"spacefill\", selection=\":L\")\n",
    "view.add_representation(\"surface\", selection=\"1:C\", color = \"red\")\n",
    "view.add_representation(\"surface\", selection=\"2:C\")\n",
    "view.add_representation(\"surface\", selection=\"3:C\", color = \"green\")\n",
    "view.add_representation(\"surface\", selection=\"4:C\", color = \"pink\")\n",
    "view.add_representation(\"surface\", selection=\"5:C\", color = \"purple\")\n",
    "view"
   ]
  },
  {
   "cell_type": "markdown",
   "id": "3b0bfdbb-d899-48d8-a41b-9a1a9d580648",
   "metadata": {},
   "source": [
    "#### Fpocket predicted 5 pockets, with pocket 1 (red) being the most prominent with the largets surface volume for van der waals interactions."
   ]
  },
  {
   "cell_type": "code",
   "execution_count": 177,
   "id": "732903e5-fbc9-4e63-81f0-778d147d0624",
   "metadata": {},
   "outputs": [
    {
     "data": {
      "application/vnd.jupyter.widget-view+json": {
       "model_id": "f6377530cb9a4611b0a431d683e20a41",
       "version_major": 2,
       "version_minor": 0
      },
      "text/plain": [
       "NGLWidget()"
      ]
     },
     "metadata": {},
     "output_type": "display_data"
    }
   ],
   "source": [
    "view = nv.show_structure_file(\"vhh_linker_pocket.pdb\")\n",
    "\n",
    "view.clear_representations()\n",
    "view.add_representation(\"ball+stick\", selection=\":A\")\n",
    "view.add_representation(\"spacefill\", selection=\":L\")\n",
    "view.add_representation(\"surface\", selection=\"1:C\", color = \"red\")\n",
    "view"
   ]
  },
  {
   "cell_type": "markdown",
   "id": "cabefbe4-2cfd-4ae2-84f8-d3f97d3e62f1",
   "metadata": {},
   "source": [
    "### Now let's proceed to namd to start the molecular dynamics simulations. we will start by solvating the system and predicting any missing atoms should in cases there is one to avoid simulation errors donwlstream. first let's use charmm-gui to generate the force field parameters"
   ]
  },
  {
   "cell_type": "markdown",
   "id": "f9c0aee0-e7e6-438d-94da-6bcf55d9f164",
   "metadata": {},
   "source": [
    "#### Defining the cell base vectors for the periodic boundary conditions need to be done appropriately to avoid errors during simulation. below we used vmd to find the minimum and maximum coordinates of atoms in our system which we use to calculate the PBC. \n",
    ">Main< (VMD) 2 % measure minmax $sel\n",
    "{29.979999542236328 43.78799819946289 -45.222999572753906} {57.47100067138672 74.11100006103516 7.7129998207092285}"
   ]
  },
  {
   "cell_type": "code",
   "execution_count": 178,
   "id": "00596b06-3c62-4afa-8afd-ee5119f58e1a",
   "metadata": {},
   "outputs": [
    {
     "name": "stdout",
     "output_type": "stream",
     "text": [
      "Box dimensions: [27.49 30.32 52.93]\n",
      "Box dimensions with buffer: [47.49 50.32 72.93]\n",
      "cellBasisVector1: [np.float64(47.489999999999995), 0.0, 0.0]\n",
      "cellBasisVector2: [0.0, np.float64(50.32), 0.0]\n",
      "cellBasisVector3: [0.0, 0.0, np.float64(72.93)]\n"
     ]
    }
   ],
   "source": [
    "import numpy as np\n",
    "\n",
    "# Minimum and maximum coordinates\n",
    "min_coords = np.array([29.98, 43.79, -45.22])\n",
    "max_coords = np.array([57.47, 74.11, 7.71])\n",
    "\n",
    "# Calculate the box dimensions\n",
    "box_dimensions = max_coords - min_coords\n",
    "print(f\"Box dimensions: {box_dimensions}\")\n",
    "\n",
    "# Add buffer to each dimension\n",
    "buffer = 10.0\n",
    "box_dimensions_with_buffer = box_dimensions + 2 * buffer\n",
    "print(f\"Box dimensions with buffer: {box_dimensions_with_buffer}\")\n",
    "\n",
    "# Define cellBasisVectors\n",
    "cellBasisVector1 = [box_dimensions_with_buffer[0], 0.0, 0.0]\n",
    "cellBasisVector2 = [0.0, box_dimensions_with_buffer[1], 0.0]\n",
    "cellBasisVector3 = [0.0, 0.0, box_dimensions_with_buffer[2]]\n",
    "\n",
    "print(f\"cellBasisVector1: {cellBasisVector1}\")\n",
    "print(f\"cellBasisVector2: {cellBasisVector2}\")\n",
    "print(f\"cellBasisVector3: {cellBasisVector3}\")\n"
   ]
  },
  {
   "cell_type": "markdown",
   "id": "dd97e0b4-8609-4d3c-a195-db71af89a7a5",
   "metadata": {},
   "source": [
    "#### find the origin of the pbc"
   ]
  },
  {
   "cell_type": "code",
   "execution_count": 179,
   "id": "e3774f63-c92c-4f8e-8bf1-beb951a3b1cf",
   "metadata": {},
   "outputs": [
    {
     "name": "stdout",
     "output_type": "stream",
     "text": [
      "Origin (center of the box): 43.725, 58.95, -18.755\n"
     ]
    }
   ],
   "source": [
    "# Given min and max coordinates\n",
    "xmin, ymin, zmin = 29.98, 43.79, -45.22\n",
    "xmax, ymax, zmax = 57.47, 74.11, 7.71\n",
    "\n",
    "# Calculate the origin (center of the box)\n",
    "xorigin = (xmin + xmax) / 2.0\n",
    "yorigin = (ymin + ymax) / 2.0\n",
    "zorigin = (zmin + zmax) / 2.0\n",
    "\n",
    "print(f\"Origin (center of the box): {xorigin}, {yorigin}, {zorigin}\")\n",
    "#We will use the defined parameters to insert in the cellbasicvectors"
   ]
  },
  {
   "cell_type": "markdown",
   "id": "57a68545-4bef-4b03-8deb-c05f3dfeeba7",
   "metadata": {},
   "source": [
    "#### before lunching the simulation, we introduced the above value for the periodic boundary conditions, we also introduce reduced the number of equilibration steps to shrink the computional time due to limited computaitonal resoureces. created a bash file to lunch the complete process step after step from minization to production. \n",
    "\n",
    "#### In the first simulation, the system relaxes structures to ensure there are no clashes or steric hindrances, this is done in 10000 steps. also, the system equilibrates stabilize at the desire temperature and preasure, this is done in 500000 steps which is reduced from 90000000 according to charmm ff. lastly the execution is done in 125000 steps and data is collected for later analysis"
   ]
  },
  {
   "cell_type": "markdown",
   "id": "185b943c-7808-4486-97f7-e231f60a55fd",
   "metadata": {},
   "source": [
    "#### As mentioned earlier, charm cannot generate forcefield file for both ligand and protein because of the introduction of the heteroatom. we generated force field file seperatly for protein and ligand, then introduced the force field parameter for gold as defined in the literature. we ran the NAMD simulation for protein only without any issues. for the docked molecule, below we manually integerated the structural and topology force field files to run the simulation. the following few cells calculates and find the correspondance on both files for integration."
   ]
  },
  {
   "cell_type": "code",
   "execution_count": 136,
   "id": "c0de718c-aebe-4be0-ad02-78239f046e08",
   "metadata": {},
   "outputs": [],
   "source": [
    "# excerpt data from vhh72 and linker structural file\n",
    "#from linker\n",
    "atom_data_1 = \"\"\" \n",
    "         1 LIG      1        LIG      S        SG311   -0.270000       32.0600           0\n",
    "         2 LIG      1        LIG      C1       CG321   -0.157000       12.0110           0\n",
    "         3 LIG      1        LIG      H1       HGA2     0.900000E-01   1.00800           0\n",
    "         4 LIG      1        LIG      H2       HGA2     0.900000E-01   1.00800           0\n",
    "         5 LIG      1        LIG      C2       CG311    0.448000       12.0110           0\n",
    "         6 LIG      1        LIG      H3       HGA1     0.900000E-01   1.00800           0\n",
    "         7 LIG      1        LIG      N1       NG321    -1.16400       14.0070           0\n",
    "         9 LIG      1        LIG      H5       HGPAM2   0.396000       1.00800           0\n",
    "        10 LIG      1        LIG      C3       CG2O1    0.524000       12.0110           0\n",
    "        11 LIG      1        LIG      O        OG2D1   -0.518000       15.9994           0\n",
    "        12 LIG      1        LIG      H6       HGP1     0.323000       1.00800           0\n",
    "        13 LIG      1        LIG      N2       NG2S1   -0.572000       14.0070           0\n",
    "        14 LIG      1        LIG      C4       CG321    0.158000       12.0110           0\n",
    "        15 LIG      1        LIG      H7       HGA2     0.900000E-01   1.00800           0\n",
    "        16 LIG      1        LIG      H8       HGA2     0.900000E-01   1.00800           0\n",
    "        17 LIG      1        LIG      C5       CG1T1   -0.540000E-01   12.0110           0\n",
    "        18 LIG      1        LIG      H9       HGPAM1   0.290000       1.00800           0\n",
    "        19 LIG      1        LIG      C6       CG1T2   -0.410000       12.0110           0\n",
    "        20 LIG      1        LIG      AU      HGP3     0.160000       1.00800           0\n",
    "\"\"\"\n",
    "#bonds from linker\n",
    "bond_data = \"\"\"\n",
    "        19 !NBOND: bonds\n",
    "         2         3         2         4         1         2         5         6\n",
    "         2         5         7         9         5         7         10        5\n",
    "         10        11        12        13        10        13        14        15\n",
    "         14        16        13        14        14        17        18        19\n",
    "         17        19         1        20\n",
    "\"\"\"\n",
    "#correspondance from structural file. Noticed gold has been introduced. VDW parameters modified in charm_cgenff.prm\n",
    "atom_data_2 = \"\"\"\n",
    "      1880 LIG      1        LIG      S        SG311   -0.270000       32.0600           0\n",
    "      1881 LIG      1        LIG      C1       CG321   -0.157000       12.0110           0\n",
    "      1882 LIG      1        LIG      H1       HGA2     0.900000E-01   1.00800           0\n",
    "      1883 LIG      1        LIG      H2       HGA2     0.900000E-01   1.00800           0\n",
    "      1884 LIG      1        LIG      C2       CG311    0.448000       12.0110           0\n",
    "      1885 LIG      1        LIG      H3       HGA1     0.900000E-01   1.00800           0\n",
    "      1886 LIG      1        LIG      N1       NG321   -0.768000       14.0070           0\n",
    "      1887 LIG      1        LIG      H5       HGPAM2   0.396000       1.00800           0\n",
    "      1888 LIG      1        LIG      C3       CG2O1    0.524000       12.0110           0\n",
    "      1889 LIG      1        LIG      O        OG2D1   -0.518000       15.9994           0\n",
    "      1890 LIG      1        LIG      H6       HGP1     0.323000       1.00800           0\n",
    "      1891 LIG      1        LIG      N2       NG2S1   -0.572000       14.0070           0\n",
    "      1892 LIG      1        LIG      C4       CG321    0.158000       12.0110           0\n",
    "      1893 LIG      1        LIG      H7       HGA2     0.900000E-01   1.00800           0\n",
    "      1894 LIG      1        LIG      H8       HGA2     0.900000E-01   1.00800           0\n",
    "      1895 LIG      1        LIG      C5       CG1T1   -0.540000E-01   12.0110           0\n",
    "      1896 LIG      1        LIG      H9       HGPAM1   0.290000       1.00800           0\n",
    "      1897 LIG      1        LIG      C6       CG1T2   -0.410000       12.0110           0\n",
    "      1898 LIG      1        LIG      AU       HGP3     0.010000       196.970           0\n",
    "\"\"\"\n",
    "#andle data to find correspondance\n",
    "angle_data = \"\"\"\n",
    "      30 !NTHETA: angles\n",
    "         2         1        20         1         2         3         1         2         4\n",
    "         1         2         5         3         2         4         3         2         5\n",
    "         4         2         5         2         5         6         2         5         7\n",
    "         2         5        10         6         5         7         6         5        10\n",
    "         7         5        10         5         7         9         5        10        11\n",
    "         5        10        13        11        10        13        10        13        12\n",
    "        10        13        14        12        13        14        13        14        15\n",
    "        13        14        16        13        14        17        15        14        16\n",
    "        15        14        17        16        14        17        14        17        19\n",
    "        17        19        18\n",
    "\"\"\"\n",
    "#dihedrals data to find correspondance\n",
    "dihedral_data = \"\"\"\n",
    "      34 !NPHI: dihedrals\n",
    "         1         2         5         6         1         2         5         7\n",
    "         1         2         5        10         2         5         7         9         \n",
    "         2         5        10        11         2         5        10        13\n",
    "         3         2         1        20         3         2         5         6  \n",
    "         3         2         5         7         3         2         5        10    \n",
    "         4         2         1        20         4         2         5         6      \n",
    "         4         2         5         7         4         2         5        10   \n",
    "         5         2         1        20         5        10        13        12      \n",
    "         5        10        13        14         6         5         7         9\n",
    "         6         5        10        11         6         5        10        13\n",
    "         7         5        10        11         7         5        10        13\n",
    "         9         7         5        10        10        13        14        15     \n",
    "        10        13        14        16        10        13        14        17       \n",
    "        11        10        13        12        11        10        13        14    \n",
    "        12        13        14        15        12        13        14        16      \n",
    "        12        13        14        17\n",
    "\"\"\"\n",
    "\n",
    "# Parse the first block of data\n",
    "atoms_dict_1 = {}\n",
    "for line in atom_data_1.strip().split('\\n'):\n",
    "  parts = line.split()\n",
    "  index = int(parts[0])\n",
    "  atom_name = parts[4]\n",
    "  atom_type = parts[5]\n",
    "  charge = float(parts[6])\n",
    "  mass = float(parts[7])\n",
    "  atoms_dict_1[index] = atom_name  # Use index as key, atom_name as value\n",
    "\n",
    "\n",
    "\n",
    "# Parse the bond information\n",
    "bonds = []\n",
    "bond_lines = bond_data.strip().split('\\n')[1:]  # Skip the first two lines\n",
    "for line in bond_lines:\n",
    "    parts = list(map(int, line.split()))\n",
    "    bonds.extend([(parts[i], parts[i+1]) for i in range(0, len(parts), 2)])\n",
    "\n",
    "# Parse the second block of data\n",
    "atoms_dict_2 = {}\n",
    "for line in atom_data_2.strip().split('\\n'):\n",
    "    parts = line.split()\n",
    "    index = int(parts[0])\n",
    "    atom_name = parts[4]\n",
    "    atom_type = parts[5]\n",
    "    charge = float(parts[6])\n",
    "    mass = float(parts[7])\n",
    "    atoms_dict_2[atom_name] = index\n",
    "\n",
    "#parse angle information\n",
    "angles = []\n",
    "angle_lines = angle_data.strip().split('\\n')[1:]  # Skip the first two lines\n",
    "for line in angle_lines:\n",
    "    parts = list(map(int, line.split()))\n",
    "    angles.extend([(parts[i], parts[i+1], parts[i+2]) for i in range(0, len(parts), 3)])\n",
    "\n",
    "#parse dihedrals information\n",
    "dihedrals = []\n",
    "dihedral_lines = dihedral_data.strip().split('\\n')[1:]  # Skip the first two lines\n",
    "for line in dihedral_lines:\n",
    "    parts = list(map(int, line.split()))\n",
    "    dihedrals.extend([(parts[i], parts[i+1], parts[i+2], parts[i+3]) for i in range(0, len(parts), 4)])\n"
   ]
  },
  {
   "cell_type": "code",
   "execution_count": 126,
   "id": "d6a6eeed-99eb-46b5-9cbf-3e624870b389",
   "metadata": {},
   "outputs": [
    {
     "name": "stdout",
     "output_type": "stream",
     "text": [
      "[(1, 2, 5, 6), (1, 2, 5, 7), (1, 2, 5, 10), (2, 5, 7, 9), (2, 5, 10, 11), (2, 5, 10, 13), (3, 2, 1, 20), (3, 2, 5, 6), (3, 2, 5, 7), (3, 2, 5, 10), (4, 2, 1, 20), (4, 2, 5, 6), (4, 2, 5, 7), (4, 2, 5, 10), (5, 2, 1, 20), (5, 10, 13, 12), (5, 10, 13, 14), (6, 5, 7, 9), (6, 5, 10, 11), (6, 5, 10, 13), (7, 5, 10, 11), (7, 5, 10, 13), (9, 7, 5, 10), (10, 13, 14, 15), (10, 13, 14, 16), (10, 13, 14, 17), (11, 10, 13, 12), (11, 10, 13, 14), (12, 13, 14, 15), (12, 13, 14, 16), (12, 13, 14, 17)]\n"
     ]
    }
   ],
   "source": [
    "print(dihedrals)"
   ]
  },
  {
   "cell_type": "code",
   "execution_count": 149,
   "id": "c7ea5132-c817-4a67-8518-78dd6d2ada23",
   "metadata": {},
   "outputs": [
    {
     "name": "stdout",
     "output_type": "stream",
     "text": [
      "[(2, 3), (2, 4), (1, 2), (5, 6), (2, 5), (7, 9), (5, 7), (10, 5), (10, 11), (12, 13), (10, 13), (14, 15), (14, 16), (13, 14), (14, 17), (18, 19), (17, 19), (1, 20)]\n"
     ]
    }
   ],
   "source": [
    "print(bonds)"
   ]
  },
  {
   "cell_type": "code",
   "execution_count": 150,
   "id": "ae61974d-e6f7-4216-8976-022e347d67cf",
   "metadata": {},
   "outputs": [
    {
     "name": "stdout",
     "output_type": "stream",
     "text": [
      "[(2, 1, 20), (1, 2, 3), (1, 2, 4), (1, 2, 5), (3, 2, 4), (3, 2, 5), (4, 2, 5), (2, 5, 6), (2, 5, 7), (2, 5, 10), (6, 5, 7), (6, 5, 10), (7, 5, 10), (5, 7, 9), (5, 10, 11), (5, 10, 13), (11, 10, 13), (10, 13, 12), (10, 13, 14), (12, 13, 14), (13, 14, 15), (13, 14, 16), (13, 14, 17), (15, 14, 16), (15, 14, 17), (16, 14, 17), (14, 17, 19), (17, 19, 18)]\n"
     ]
    }
   ],
   "source": [
    "print(angles)"
   ]
  },
  {
   "cell_type": "code",
   "execution_count": 140,
   "id": "5819f5b1-4aec-45e8-8fed-29b294510ad9",
   "metadata": {
    "scrolled": true
   },
   "outputs": [
    {
     "name": "stdout",
     "output_type": "stream",
     "text": [
      "[('C1', 'H1'), ('C1', 'H2'), ('S', 'C1'), ('C2', 'H3'), ('C1', 'C2'), ('N1', 'H5'), ('C2', 'N1'), ('C3', 'C2'), ('C3', 'O'), ('H6', 'N2'), ('C3', 'N2'), ('C4', 'H7'), ('C4', 'H8'), ('N2', 'C4'), ('C4', 'C5'), ('H9', 'C6'), ('C5', 'C6'), ('S', 'AU')]\n"
     ]
    }
   ],
   "source": [
    "#find bonds correspondance\n",
    "bonds_list = []  # Create an empty list to store bonds\n",
    "for bond in bonds:\n",
    "  atom1 = atoms_dict_1[bond[0]]  # Access atom names using index\n",
    "  atom2 = atoms_dict_1[bond[1]]\n",
    "  bonds_list.append((atom1, atom2))  # Append a tuple to the list\n",
    "\n",
    "print(bonds_list)"
   ]
  },
  {
   "cell_type": "code",
   "execution_count": 141,
   "id": "3798b345-3ea0-49af-8937-72d052810591",
   "metadata": {},
   "outputs": [
    {
     "name": "stdout",
     "output_type": "stream",
     "text": [
      "[('C1', 'S', 'AU'), ('S', 'C1', 'H1'), ('S', 'C1', 'H2'), ('S', 'C1', 'C2'), ('H1', 'C1', 'H2'), ('H1', 'C1', 'C2'), ('H2', 'C1', 'C2'), ('C1', 'C2', 'H3'), ('C1', 'C2', 'N1'), ('C1', 'C2', 'C3'), ('H3', 'C2', 'N1'), ('H3', 'C2', 'C3'), ('N1', 'C2', 'C3'), ('C2', 'N1', 'H5'), ('C2', 'C3', 'O'), ('C2', 'C3', 'N2'), ('O', 'C3', 'N2'), ('C3', 'N2', 'H6'), ('C3', 'N2', 'C4'), ('H6', 'N2', 'C4'), ('N2', 'C4', 'H7'), ('N2', 'C4', 'H8'), ('N2', 'C4', 'C5'), ('H7', 'C4', 'H8'), ('H7', 'C4', 'C5'), ('H8', 'C4', 'C5'), ('C4', 'C5', 'C6'), ('C5', 'C6', 'H9')]\n"
     ]
    }
   ],
   "source": [
    "#find angle correspondance\n",
    "angles_list = []  # Create an empty list to store bonds\n",
    "for bond in angles:\n",
    "  atom1 = atoms_dict_1[bond[0]]  # Access atom names using index\n",
    "  atom2 = atoms_dict_1[bond[1]]\n",
    "  atom3 = atoms_dict_1[bond[2]]\n",
    "  angles_list.append((atom1, atom2, atom3))  # Append a tuple to the list\n",
    "\n",
    "print(angles_list)"
   ]
  },
  {
   "cell_type": "code",
   "execution_count": 142,
   "id": "eec0cd8f-7d79-421b-860b-3d450fd001d9",
   "metadata": {},
   "outputs": [
    {
     "name": "stdout",
     "output_type": "stream",
     "text": [
      "[('S', 'C1', 'C2', 'H3'), ('S', 'C1', 'C2', 'N1'), ('S', 'C1', 'C2', 'C3'), ('C1', 'C2', 'N1', 'H5'), ('C1', 'C2', 'C3', 'O'), ('C1', 'C2', 'C3', 'N2'), ('H1', 'C1', 'S', 'AU'), ('H1', 'C1', 'C2', 'H3'), ('H1', 'C1', 'C2', 'N1'), ('H1', 'C1', 'C2', 'C3'), ('H2', 'C1', 'S', 'AU'), ('H2', 'C1', 'C2', 'H3'), ('H2', 'C1', 'C2', 'N1'), ('H2', 'C1', 'C2', 'C3'), ('C2', 'C1', 'S', 'AU'), ('C2', 'C3', 'N2', 'H6'), ('C2', 'C3', 'N2', 'C4'), ('H3', 'C2', 'N1', 'H5'), ('H3', 'C2', 'C3', 'O'), ('H3', 'C2', 'C3', 'N2'), ('N1', 'C2', 'C3', 'O'), ('N1', 'C2', 'C3', 'N2'), ('H5', 'N1', 'C2', 'C3'), ('C3', 'N2', 'C4', 'H7'), ('C3', 'N2', 'C4', 'H8'), ('C3', 'N2', 'C4', 'C5'), ('O', 'C3', 'N2', 'H6'), ('O', 'C3', 'N2', 'C4'), ('H6', 'N2', 'C4', 'H7'), ('H6', 'N2', 'C4', 'H8'), ('H6', 'N2', 'C4', 'C5')]\n"
     ]
    }
   ],
   "source": [
    "#find dihedrals correspondance\n",
    "dihedrals_list = []  # Create an empty list to store bonds\n",
    "for bond in dihedrals:\n",
    "  atom1 = atoms_dict_1[bond[0]]  # Access atom names using index\n",
    "  atom2 = atoms_dict_1[bond[1]]\n",
    "  atom3 = atoms_dict_1[bond[2]]\n",
    "  atom4 = atoms_dict_1[bond[3]]\n",
    "  dihedrals_list.append((atom1, atom2, atom3, atom4))  # Append a tuple to the list\n",
    "\n",
    "print(dihedrals_list)"
   ]
  },
  {
   "cell_type": "code",
   "execution_count": 143,
   "id": "0f56526a-cb6f-4c8e-b6ee-44e47b240fb8",
   "metadata": {},
   "outputs": [
    {
     "name": "stdout",
     "output_type": "stream",
     "text": [
      "[1881, 1882, 1881, 1883, 1880, 1881, 1884, 1885, 1881, 1884, 1886, 1887, 1884, 1886, 1888, 1884, 1888, 1889, 1890, 1891, 1888, 1891, 1892, 1893, 1892, 1894, 1891, 1892, 1892, 1895, 1896, 1897, 1895, 1897, 1880, 1898]\n"
     ]
    }
   ],
   "source": [
    "#get the bond correspondance\n",
    "bonds_list_translated = []\n",
    "for bond in bonds_list:\n",
    "  atom1_idx = atoms_dict_2[bond[0]]  # Access atom names using index\n",
    "  atom2_idx = atoms_dict_2[bond[1]]\n",
    "  bonds_list_translated += (atom1_idx, atom2_idx)  # Append a tuple to the list\n",
    "\n",
    "print(bonds_list_translated)"
   ]
  },
  {
   "cell_type": "code",
   "execution_count": 144,
   "id": "56ab03cb-d896-48b0-8590-c441601d15fd",
   "metadata": {},
   "outputs": [
    {
     "name": "stdout",
     "output_type": "stream",
     "text": [
      "1881      1882      1881      1883      1880      1881      1884      1885      1881      1884      1886      1887      1884      1886      1888      1884      1888      1889      1890      1891      1888      1891      1892      1893      1892      1894      1891      1892      1892      1895      1896      1897      1895      1897      1880      1898      \n"
     ]
    }
   ],
   "source": [
    "#present the bond correspondance for easy introduction in the structural file\n",
    "output_string = \"\"\n",
    "\n",
    "# Loop through each element in the list\n",
    "for element in bonds_list_translated:\n",
    "  # Convert element to string and add a space at the end\n",
    "  output_string += str(element) + \"      \"\n",
    "\n",
    "# Print the final string without the trailing space\n",
    "print(output_string)"
   ]
  },
  {
   "cell_type": "code",
   "execution_count": 145,
   "id": "c49e3294-22ed-49e3-9108-1cda471632a2",
   "metadata": {},
   "outputs": [
    {
     "name": "stdout",
     "output_type": "stream",
     "text": [
      "[1881, 1880, 1898, 1880, 1881, 1882, 1880, 1881, 1883, 1880, 1881, 1884, 1882, 1881, 1883, 1882, 1881, 1884, 1883, 1881, 1884, 1881, 1884, 1885, 1881, 1884, 1886, 1881, 1884, 1888, 1885, 1884, 1886, 1885, 1884, 1888, 1886, 1884, 1888, 1884, 1886, 1887, 1884, 1888, 1889, 1884, 1888, 1891, 1889, 1888, 1891, 1888, 1891, 1890, 1888, 1891, 1892, 1890, 1891, 1892, 1891, 1892, 1893, 1891, 1892, 1894, 1891, 1892, 1895, 1893, 1892, 1894, 1893, 1892, 1895, 1894, 1892, 1895, 1892, 1895, 1897, 1895, 1897, 1896]\n"
     ]
    }
   ],
   "source": [
    "#get the angle correspondance\n",
    "angles_list_translated = []\n",
    "for angle in angles_list:\n",
    "  atom1_idx = atoms_dict_2[angle[0]]  # Access atom names using index\n",
    "  atom2_idx = atoms_dict_2[angle[1]]\n",
    "  atom3_idx = atoms_dict_2[angle[2]]\n",
    "  angles_list_translated += (atom1_idx, atom2_idx, atom3_idx)  # Append a tuple to the list\n",
    "\n",
    "print(angles_list_translated)"
   ]
  },
  {
   "cell_type": "code",
   "execution_count": 146,
   "id": "41067c45-8752-44f3-a5e3-e426c1aeae32",
   "metadata": {},
   "outputs": [
    {
     "name": "stdout",
     "output_type": "stream",
     "text": [
      "1881      1880      1898      1880      1881      1882      1880      1881      1883      1880      1881      1884      1882      1881      1883      1882      1881      1884      1883      1881      1884      1881      1884      1885      1881      1884      1886      1881      1884      1888      1885      1884      1886      1885      1884      1888      1886      1884      1888      1884      1886      1887      1884      1888      1889      1884      1888      1891      1889      1888      1891      1888      1891      1890      1888      1891      1892      1890      1891      1892      1891      1892      1893      1891      1892      1894      1891      1892      1895      1893      1892      1894      1893      1892      1895      1894      1892      1895      1892      1895      1897      1895      1897      1896      \n"
     ]
    }
   ],
   "source": [
    "#present the angle correspondance for easy introduction in the structural file\n",
    "output_string = \"\"\n",
    "\n",
    "# Loop through each element in the list\n",
    "for element in angles_list_translated:\n",
    "  # Convert element to string and add a space at the end\n",
    "  output_string += str(element) + \"      \"\n",
    "\n",
    "# Print the final string without the trailing space\n",
    "print(output_string)"
   ]
  },
  {
   "cell_type": "code",
   "execution_count": 147,
   "id": "3039e404-d0bd-43da-81c1-69f6c106bd9e",
   "metadata": {},
   "outputs": [
    {
     "name": "stdout",
     "output_type": "stream",
     "text": [
      "[1880, 1881, 1884, 1885, 1880, 1881, 1884, 1886, 1880, 1881, 1884, 1888, 1881, 1884, 1886, 1887, 1881, 1884, 1888, 1889, 1881, 1884, 1888, 1891, 1882, 1881, 1880, 1898, 1882, 1881, 1884, 1885, 1882, 1881, 1884, 1886, 1882, 1881, 1884, 1888, 1883, 1881, 1880, 1898, 1883, 1881, 1884, 1885, 1883, 1881, 1884, 1886, 1883, 1881, 1884, 1888, 1884, 1881, 1880, 1898, 1884, 1888, 1891, 1890, 1884, 1888, 1891, 1892, 1885, 1884, 1886, 1887, 1885, 1884, 1888, 1889, 1885, 1884, 1888, 1891, 1886, 1884, 1888, 1889, 1886, 1884, 1888, 1891, 1887, 1886, 1884, 1888, 1888, 1891, 1892, 1893, 1888, 1891, 1892, 1894, 1888, 1891, 1892, 1895, 1889, 1888, 1891, 1890, 1889, 1888, 1891, 1892, 1890, 1891, 1892, 1893, 1890, 1891, 1892, 1894, 1890, 1891, 1892, 1895]\n"
     ]
    },
    {
     "data": {
      "text/plain": [
       "124"
      ]
     },
     "execution_count": 147,
     "metadata": {},
     "output_type": "execute_result"
    }
   ],
   "source": [
    "#get the dihedral correspondance\n",
    "dihedrals_list_translated = []\n",
    "for angle in dihedrals_list:\n",
    "  atom1_idx = atoms_dict_2[angle[0]]  # Access atom names using index\n",
    "  atom2_idx = atoms_dict_2[angle[1]]\n",
    "  atom3_idx = atoms_dict_2[angle[2]]\n",
    "  atom4_idx = atoms_dict_2[angle[3]]\n",
    "  dihedrals_list_translated += (atom1_idx, atom2_idx, atom3_idx, atom4_idx)  # Append a tuple to the list\n",
    "\n",
    "print(dihedrals_list_translated)\n",
    "len(dihedrals_list_translated)"
   ]
  },
  {
   "cell_type": "code",
   "execution_count": 148,
   "id": "d94f9981-a2f1-47f9-9442-7c47b1d9644b",
   "metadata": {},
   "outputs": [
    {
     "name": "stdout",
     "output_type": "stream",
     "text": [
      "1880      1881      1884      1885      1880      1881      1884      1886      1880      1881      1884      1888      1881      1884      1886      1887      1881      1884      1888      1889      1881      1884      1888      1891      1882      1881      1880      1898      1882      1881      1884      1885      1882      1881      1884      1886      1882      1881      1884      1888      1883      1881      1880      1898      1883      1881      1884      1885      1883      1881      1884      1886      1883      1881      1884      1888      1884      1881      1880      1898      1884      1888      1891      1890      1884      1888      1891      1892      1885      1884      1886      1887      1885      1884      1888      1889      1885      1884      1888      1891      1886      1884      1888      1889      1886      1884      1888      1891      1887      1886      1884      1888      1888      1891      1892      1893      1888      1891      1892      1894      1888      1891      1892      1895      1889      1888      1891      1890      1889      1888      1891      1892      1890      1891      1892      1893      1890      1891      1892      1894      1890      1891      1892      1895      \n"
     ]
    }
   ],
   "source": [
    "#present the dihedral correspondance for easy introduction into the structural file\n",
    "output_string = \"\"\n",
    "\n",
    "# Loop through each element in the list\n",
    "for element in dihedrals_list_translated:\n",
    "  # Convert element to string and add a space at the end\n",
    "  output_string += str(element) + \"      \"\n",
    "\n",
    "# Print the final string without the trailing space\n",
    "print(output_string)"
   ]
  },
  {
   "cell_type": "markdown",
   "id": "c90f1da2-f731-4983-ad54-fc20bbbde8ec",
   "metadata": {},
   "source": [
    "### After simulation first find the RMSD for the protein backbone, then the rmsd per residue. RMSD per residue provide protein mobility per residue and an overview of the structural stability of the protein while rmsd for the protein backbone provides an overview of possible conformational changes along the simulation. "
   ]
  },
  {
   "cell_type": "markdown",
   "id": "39894a6b-0305-4e89-9c44-c25a71a9358d",
   "metadata": {},
   "source": [
    "### next is to find the temperature fluctuation which is the measure of the heat released by the atoms vibration during simulation. this also supports the question of thermostability, while it doesn't define the optimal stability of the molecule but a less stable fluctuation represents a more stable atom while more fluctuation defines i less stable molecule."
   ]
  },
  {
   "cell_type": "markdown",
   "id": "fda8f3a3-0fb6-4974-ba05-bfa38a266f5d",
   "metadata": {},
   "source": [
    "### next we can compare the docked protein with the undocked protein to find if there were any structural changes during the process. RMSD shows that conformational changes have been incured during the process and some residues became more mobile but what is unsure is if the conformational changes affects the bonding site. Let's verify this wit fpocket!"
   ]
  },
  {
   "cell_type": "code",
   "execution_count": 203,
   "id": "52d72703-4560-4f69-bf19-48e772875ebc",
   "metadata": {},
   "outputs": [
    {
     "data": {
      "application/vnd.jupyter.widget-view+json": {
       "model_id": "cb8a1560cf1a4fcd83252f84de88a3b7",
       "version_major": 2,
       "version_minor": 0
      },
      "text/plain": [
       "NGLWidget()"
      ]
     },
     "metadata": {},
     "output_type": "display_data"
    }
   ],
   "source": [
    "view = view = nv.show_structure_file(\"dcd_to_pdb_frame0_pocket.pdb\")\n",
    "\n",
    "view.clear_representations()\n",
    "view.add_representation(\"ball+stick\", selection=\"1-115\")\n",
    "view.add_representation(\"spacefill\", selection=\":L\")\n",
    "view.add_representation(\"surface\", selection=\"1:C\", color = \"red\")\n",
    "view"
   ]
  },
  {
   "cell_type": "code",
   "execution_count": 202,
   "id": "f813e2a6-f61c-4a27-a757-e5d0e8ae1483",
   "metadata": {},
   "outputs": [
    {
     "data": {
      "application/vnd.jupyter.widget-view+json": {
       "model_id": "3b5ae790632049c69a10133d46ef6425",
       "version_major": 2,
       "version_minor": 0
      },
      "text/plain": [
       "NGLWidget()"
      ]
     },
     "metadata": {},
     "output_type": "display_data"
    }
   ],
   "source": [
    "view = view = nv.show_structure_file(\"dcd_to_pdb_frame27_pocket.pdb\")\n",
    "\n",
    "view.clear_representations()\n",
    "view.add_representation(\"ball+stick\", selection=\"1-115\")\n",
    "view.add_representation(\"spacefill\", selection=\":L\")\n",
    "view.add_representation(\"surface\", selection=\"1:C\", color = \"red\")\n",
    "view"
   ]
  },
  {
   "cell_type": "code",
   "execution_count": 226,
   "id": "a491d39f-e62f-4257-a657-5b36624be252",
   "metadata": {},
   "outputs": [
    {
     "data": {
      "application/vnd.jupyter.widget-view+json": {
       "model_id": "e8a947a1e41f42e8a5a3ca1d8409609e",
       "version_major": 2,
       "version_minor": 0
      },
      "text/plain": [
       "NGLWidget()"
      ]
     },
     "metadata": {},
     "output_type": "display_data"
    }
   ],
   "source": [
    "view = view = nv.show_structure_file(\"dcd_to_pdb_frame13_pocket.pdb\")\n",
    "\n",
    "view.clear_representations()\n",
    "view.add_representation(\"ball+stick\", selection=\"1-115\")\n",
    "view.add_representation(\"spacefill\", selection=\":L\")\n",
    "view.add_representation(\"surface\", selection=\"5:C\", color = \"red\")\n",
    "view"
   ]
  },
  {
   "cell_type": "markdown",
   "id": "b3047255-85f6-467c-9e41-e09745563a9f",
   "metadata": {},
   "source": [
    "### The above simulations shows that the conformational changes modifies the binding site of the nanobodes at some point of the simulation."
   ]
  },
  {
   "cell_type": "markdown",
   "id": "69f90f5a-a785-4acb-9e73-270fbcd361dd",
   "metadata": {},
   "source": [
    "### Below we plot the energy data obtain during the minimization process for Vhh72 and the linker.\n",
    "\n",
    "### All data below are from NAMD simulation"
   ]
  },
  {
   "cell_type": "code",
   "execution_count": 234,
   "id": "4ed73ace-c073-423a-a1ef-e05bdf7e69a1",
   "metadata": {},
   "outputs": [
    {
     "name": "stdout",
     "output_type": "stream",
     "text": [
      "Total simulation time: 270.0 ps\n"
     ]
    },
    {
     "data": {
      "image/png": "[encoded data removed]",
      "text/plain": [
       "<Figure size 1400x800 with 1 Axes>"
      ]
     },
     "metadata": {},
     "output_type": "display_data"
    }
   ],
   "source": [
    "import re\n",
    "import matplotlib.pyplot as plt\n",
    "\n",
    "def parse_namd_log(log_file):\n",
    "    # Regular expressions to match lines in the log file\n",
    "    energy_re = re.compile(\n",
    "        r\"^ENERGY:\\s+(\\d+)\\s+(\\S+)\\s+(\\S+)\\s+(\\S+)\\s+(\\S+)\\s+(\\S+)\\s+(\\S+)\\s+(\\S+)\\s+(\\S+)\\s+(\\S+)\\s+(\\S+)\"\n",
    "    )\n",
    "\n",
    "    # Lists to hold the parsed data\n",
    "    steps = []\n",
    "    bond_energies = []\n",
    "    kinetic_energies = []\n",
    "    total_energies = []\n",
    "    temperatures = []\n",
    "    electrostatic = []\n",
    "\n",
    "    # Open and parse the log file\n",
    "    with open(log_file, 'r') as file:\n",
    "        for line in file:\n",
    "            match = energy_re.match(line)\n",
    "            if match:\n",
    "                steps.append(int(match.group(1)))\n",
    "                bond_energies.append(float(match.group(2)))\n",
    "                kinetic_energies.append(float(match.group(7)))\n",
    "                total_energies.append(float(match.group(11)))\n",
    "                temperatures.append(float(match.group(10)))\n",
    "                electrostatic.append(float(match.group(6)))\n",
    "\n",
    "    return steps, bond_energies, kinetic_energies, total_energies, temperatures, electrostatic\n",
    "\n",
    "def plot_energies(steps, bond_energies, kinetic_energies, total_energies, temperatures,electrostatic, time_step, y_min, y_max):\n",
    "    # Convert steps to time (ps)\n",
    "    times = [step * time_step for step in steps]\n",
    "\n",
    "    plt.figure(figsize=(14, 8))\n",
    "\n",
    "    # Plot bond energies\n",
    "    plt.plot(times, bond_energies, label='Bond Energy', color='blue')\n",
    "\n",
    "    # Plot kinetic energies\n",
    "    plt.plot(times, kinetic_energies, label='Kinetic Energy', color='orange')\n",
    "\n",
    "    # Plot temperatures\n",
    "    plt.plot(times, temperatures, label='Temperature', color='red')\n",
    "\n",
    "    # Plot total energies\n",
    "    plt.plot(times, total_energies, label='Total Energy', color='green')\n",
    "\n",
    "    # Plot electrostatic energies\n",
    "    plt.plot(times, electrostatic, label='Electrostatic Energy', color='yellow')\n",
    "\n",
    "    plt.xlabel('Time (ps)')\n",
    "    plt.ylabel('Energy (kcal/mol)')\n",
    "    plt.title('NAMD Simulation Energies Vhh72-Alinker')\n",
    "    plt.legend()\n",
    "    plt.grid(True)\n",
    "\n",
    "    # Setting y-axis limits to focus on the part with data\n",
    "    plt.ylim(y_min, y_max)\n",
    "\n",
    "    plt.show()\n",
    "\n",
    "# Use the functions defined above\n",
    "log_file = 'step4_equilibration.out'  # Replace with your actual log file name\n",
    "time_step = 2.0 * 0.001  # Time step in picoseconds (assuming 2 fs time step in NAMD)\n",
    "\n",
    "# Calculate total simulation time based on time_step and number of steps\n",
    "steps, bond_energies, kinetic_energies, total_energies, temperatures, electrostatic = parse_namd_log(log_file)\n",
    "total_simulation_time = steps[-1] * time_step\n",
    "\n",
    "print(f\"Total simulation time: {total_simulation_time} ps\")\n",
    "\n",
    "# Manually specify y-axis limits to zoom in on relevant data\n",
    "y_min = -4000  # Set to your desired minimum y value\n",
    "y_max = 2000   # Set to your desired maximum y value\n",
    "\n",
    "# Plot energies with manual y-axis zoom\n",
    "plot_energies(steps, bond_energies, kinetic_energies, total_energies, temperatures, electrostatic, time_step, y_min, y_max)"
   ]
  },
  {
   "cell_type": "markdown",
   "id": "e90da5dd-1b06-475b-b4a9-32848e1d8695",
   "metadata": {},
   "source": [
    "### plot the RMSD deviation from the Vhh72 - linker minimization"
   ]
  },
  {
   "cell_type": "code",
   "execution_count": 232,
   "id": "fcd53aac-b8b4-441d-bd48-0cba9fa1441a",
   "metadata": {},
   "outputs": [
    {
     "data": {
      "image/png": "[encoded data removed]",
      "text/plain": [
       "<Figure size 1000x600 with 1 Axes>"
      ]
     },
     "metadata": {},
     "output_type": "display_data"
    }
   ],
   "source": [
    "import matplotlib.pyplot as plt\n",
    "\n",
    "def parse_rmsd_file(rmsd_file):\n",
    "    rmsd_values = []\n",
    "    with open(rmsd_file, 'r') as file:\n",
    "        for line in file:\n",
    "            rmsd_values.append(float(line.strip()))\n",
    "    return rmsd_values\n",
    "\n",
    "def plot_rmsd(rmsd_values, time_step):\n",
    "    # Convert the number of frames to time (ps)\n",
    "    times = [i * time_step for i in range(len(rmsd_values))]\n",
    "\n",
    "    plt.figure(figsize=(10, 6))\n",
    "    plt.plot(times, rmsd_values, label='RMSD', color='blue')\n",
    "    plt.xlabel('Time (ps)')\n",
    "    plt.ylabel('RMSD (Å)')\n",
    "    plt.title('RMSD Over Time Vhh72-Alinker')\n",
    "    plt.legend()\n",
    "    plt.grid(True)\n",
    "    plt.show()\n",
    "\n",
    "# Use the functions defined above\n",
    "rmsd_file = 'rmsd.dat'  # Replace with your actual RMSD file name\n",
    "time_step = 2.0 * 0.001  # Time step in picoseconds (assuming 2 fs time step in NAMD)\n",
    "\n",
    "# Parse the RMSD file and plot\n",
    "rmsd_values = parse_rmsd_file(rmsd_file)\n",
    "plot_rmsd(rmsd_values, time_step)\n"
   ]
  },
  {
   "cell_type": "markdown",
   "id": "1cc9cdd9-dce7-48e6-89ef-4de7adaf85c6",
   "metadata": {},
   "source": [
    "### plot the RMSD per residue for the Vhh72-linker minimization"
   ]
  },
  {
   "cell_type": "code",
   "execution_count": 231,
   "id": "44d6bbe2-c878-4105-a0f3-a4fbdde78398",
   "metadata": {},
   "outputs": [
    {
     "data": {
      "image/png": "[encoded data removed]",
      "text/plain": [
       "<Figure size 1000x600 with 1 Axes>"
      ]
     },
     "metadata": {},
     "output_type": "display_data"
    }
   ],
   "source": [
    "import matplotlib.pyplot as plt\n",
    "\n",
    "def parse_rmsd_per_residue(rmsd_per_residue_file):\n",
    "    residue_numbers = []\n",
    "    rmsd_values = []\n",
    "    with open(rmsd_per_residue_file, 'r') as file:\n",
    "        for line in file:\n",
    "            line = line.strip()\n",
    "            if line:\n",
    "                parts = line.split()\n",
    "                residue_numbers.append(int(parts[0]))\n",
    "                rmsd_values.append(float(parts[1]))\n",
    "    return residue_numbers, rmsd_values\n",
    "\n",
    "def plot_rmsd_per_residue(residue_numbers, rmsd_values):\n",
    "    plt.figure(figsize=(10, 6))\n",
    "    plt.plot(residue_numbers, rmsd_values, marker='o', linestyle='-', color='blue')\n",
    "    plt.xlabel('Residue Number')\n",
    "    plt.ylabel('RMSD (Å)')\n",
    "    plt.title('RMSD Per Residue Vhh73-Alinker')\n",
    "    plt.grid(True)\n",
    "    plt.show()\n",
    "\n",
    "# Use the functions defined above\n",
    "rmsd_per_residue_file = 'residue_rmsd.dat'  # Replace with your actual RMSD per residue file name\n",
    "\n",
    "# Parse the RMSD per residue file\n",
    "residue_numbers, rmsd_values = parse_rmsd_per_residue(rmsd_per_residue_file)\n",
    "\n",
    "# Plot RMSD per residue\n",
    "plot_rmsd_per_residue(residue_numbers, rmsd_values)\n"
   ]
  },
  {
   "cell_type": "markdown",
   "id": "e53b55cd-56bc-4929-b126-29d38e729231",
   "metadata": {},
   "source": [
    "### Let's repeat the process for Vhh72 minimizatio only"
   ]
  },
  {
   "cell_type": "code",
   "execution_count": null,
   "id": "23569829-9906-45cc-a40f-b782d0bfeb45",
   "metadata": {},
   "outputs": [],
   "source": [
    "import re\n",
    "import matplotlib.pyplot as plt\n",
    "\n",
    "def parse_namd_log(log_file):\n",
    "    # Regular expressions to match lines in the log file\n",
    "    energy_re = re.compile(\n",
    "        r\"^ENERGY:\\s+(\\d+)\\s+(\\S+)\\s+(\\S+)\\s+(\\S+)\\s+(\\S+)\\s+(\\S+)\\s+(\\S+)\\s+(\\S+)\\s+(\\S+)\\s+(\\S+)\\s+(\\S+)\"\n",
    "    )\n",
    "\n",
    "    # Lists to hold the parsed data\n",
    "    steps = []\n",
    "    bond_energies = []\n",
    "    kinetic_energies = []\n",
    "    total_energies = []\n",
    "    temperatures = []\n",
    "    electrostatic = []\n",
    "\n",
    "    # Open and parse the log file\n",
    "    with open(log_file, 'r') as file:\n",
    "        for line in file:\n",
    "            match = energy_re.match(line)\n",
    "            if match:\n",
    "                steps.append(int(match.group(1)))\n",
    "                bond_energies.append(float(match.group(2)))\n",
    "                kinetic_energies.append(float(match.group(7)))\n",
    "                total_energies.append(float(match.group(11)))\n",
    "                temperatures.append(float(match.group(10)))\n",
    "                electrostatic.append(float(match.group(6)))\n",
    "\n",
    "    return steps, bond_energies, kinetic_energies, total_energies, temperatures, electrostatic\n",
    "\n",
    "def plot_energies(steps, bond_energies, kinetic_energies, total_energies, temperatures,electrostatic, time_step, y_min, y_max):\n",
    "    # Convert steps to time (ps)\n",
    "    times = [step * time_step for step in steps]\n",
    "\n",
    "    plt.figure(figsize=(14, 8))\n",
    "\n",
    "    # Plot bond energies\n",
    "    plt.plot(times, bond_energies, label='Bond Energy', color='blue')\n",
    "\n",
    "    # Plot kinetic energies\n",
    "    plt.plot(times, kinetic_energies, label='Kinetic Energy', color='orange')\n",
    "\n",
    "    # Plot temperatures\n",
    "    plt.plot(times, temperatures, label='Temperature', color='red')\n",
    "\n",
    "    # Plot total energies\n",
    "    plt.plot(times, total_energies, label='Total Energy', color='green')\n",
    "\n",
    "    # Plot electrostatic energies\n",
    "    plt.plot(times, electrostatic, label='Electrostatic Energy', color='yellow')\n",
    "\n",
    "    plt.xlabel('Time (ps)')\n",
    "    plt.ylabel('Energy (kcal/mol)')\n",
    "    plt.title('NAMD Simulation Energies Vhh72-Alinker')\n",
    "    plt.legend()\n",
    "    plt.grid(True)\n",
    "\n",
    "    # Setting y-axis limits to focus on the part with data\n",
    "    plt.ylim(y_min, y_max)\n",
    "\n",
    "    plt.show()\n",
    "\n",
    "# Use the functions defined above\n",
    "log_file = 'step4_equilibration.out'  # Replace with your actual log file name\n",
    "time_step = 2.0 * 0.001  # Time step in picoseconds (assuming 2 fs time step in NAMD)\n",
    "\n",
    "# Calculate total simulation time based on time_step and number of steps\n",
    "steps, bond_energies, kinetic_energies, total_energies, temperatures, electrostatic = parse_namd_log(log_file)\n",
    "total_simulation_time = steps[-1] * time_step\n",
    "\n",
    "print(f\"Total simulation time: {total_simulation_time} ps\")\n",
    "\n",
    "# Manually specify y-axis limits to zoom in on relevant data\n",
    "y_min = -4000  # Set to your desired minimum y value\n",
    "y_max = 2000   # Set to your desired maximum y value\n",
    "\n",
    "# Plot energies with manual y-axis zoom\n",
    "plot_energies(steps, bond_energies, kinetic_energies, total_energies, temperatures, electrostatic, time_step, y_min, y_max)"
   ]
  },
  {
   "cell_type": "code",
   "execution_count": null,
   "id": "4e015cee-7004-43de-a2f3-09fb3ba86f4e",
   "metadata": {},
   "outputs": [],
   "source": [
    "#binding site for the CG linker:\n",
    "view = view = nv.show_structure_file(\"dcd_to_pdb_frame27_pocket.pdb\")\n",
    "\n",
    "view.clear_representations()\n",
    "view.add_representation(\"ball+stick\", selection=\"1-115\")\n",
    "view.add_representation(\"spacefill\", selection=\":L\")\n",
    "view.add_representation(\"surface\", selection=\"1:C\", color = \"red\")\n",
    "view"
   ]
  }
 ],
 "metadata": {
  "kernelspec": {
   "display_name": "Python 3 (ipykernel)",
   "language": "python",
   "name": "python3"
  },
  "language_info": {
   "codemirror_mode": {
    "name": "ipython",
    "version": 3
   },
   "file_extension": ".py",
   "mimetype": "text/x-python",
   "name": "python",
   "nbconvert_exporter": "python",
   "pygments_lexer": "ipython3",
   "version": "3.12.2"
  }
 },
 "nbformat": 4,
 "nbformat_minor": 5
}
